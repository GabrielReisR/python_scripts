{
 "cells": [
  {
   "cell_type": "markdown",
   "id": "individual-header",
   "metadata": {},
   "source": [
    "## Reading libraries"
   ]
  },
  {
   "cell_type": "code",
   "execution_count": 1,
   "id": "sophisticated-southeast",
   "metadata": {},
   "outputs": [],
   "source": [
    "import matplotlib.pyplot as plt\n",
    "import numpy as np\n",
    "import pandas as pd\n",
    "%config Completer.use_jedi = False # this speeds up autocomplete"
   ]
  },
  {
   "cell_type": "markdown",
   "id": "continuous-battery",
   "metadata": {},
   "source": [
    "An archaeologist is put into a maze and he has to follow the maze's steps, unwillingly. If he ends up in the same position as \"0\", he finds the treasure. The map is our own doing. The interesting part is he can start anywhere he likes and still end up in the treasure position."
   ]
  },
  {
   "cell_type": "code",
   "execution_count": 1,
   "id": "noted-proposal",
   "metadata": {
    "scrolled": true
   },
   "outputs": [],
   "source": [
    "mapa = [['3','3','3','5'], \n",
    "        ['3','3','3','0'],\n",
    "        ['3','3','3','1'],\n",
    "        ['3','3','3','1']]\n",
    "\n",
    "\n",
    "def tesouro(posX, posY):\n",
    "    while (True):\n",
    "        if mapa[posX][posY] == '3':\n",
    "            posY = posY + 1\n",
    "        elif mapa[posX][posY] == '5':\n",
    "            posX = posX + 1\n",
    "        elif mapa[posX][posY] == '1':\n",
    "            posX = posX - 1\n",
    "        elif mapa[posX][posY] == '0':\n",
    "            print(\"Found the treasure!\")\n",
    "            break\n",
    "\n",
    "        print('X e Y: ', posX, ' ', posY)"
   ]
  },
  {
   "cell_type": "code",
   "execution_count": 2,
   "id": "quantitative-journey",
   "metadata": {
    "scrolled": true
   },
   "outputs": [
    {
     "name": "stdout",
     "output_type": "stream",
     "text": [
      "X e Y:  0   2\n",
      "X e Y:  0   3\n",
      "X e Y:  1   3\n",
      "Found the treasure!\n"
     ]
    }
   ],
   "source": [
    "tesouro(0, 0)"
   ]
  },
  {
   "cell_type": "code",
   "execution_count": 8,
   "id": "downtown-distributor",
   "metadata": {},
   "outputs": [
    {
     "name": "stdout",
     "output_type": "stream",
     "text": [
      "X e Y:  3   1\n",
      "X e Y:  3   2\n",
      "X e Y:  3   3\n",
      "X e Y:  2   3\n",
      "X e Y:  1   3\n",
      "Found the treasure!\n"
     ]
    }
   ],
   "source": [
    "tesouro(3, 0)"
   ]
  }
 ],
 "metadata": {
  "kernelspec": {
   "display_name": "Python 3",
   "language": "python",
   "name": "python3"
  },
  "language_info": {
   "codemirror_mode": {
    "name": "ipython",
    "version": 3
   },
   "file_extension": ".py",
   "mimetype": "text/x-python",
   "name": "python",
   "nbconvert_exporter": "python",
   "pygments_lexer": "ipython3",
   "version": "3.9.1"
  }
 },
 "nbformat": 4,
 "nbformat_minor": 5
}
