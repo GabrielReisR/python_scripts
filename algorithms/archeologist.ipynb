{
 "cells": [
  {
   "cell_type": "code",
   "execution_count": 1,
   "id": "sophisticated-southeast",
   "metadata": {},
   "outputs": [],
   "source": [
    "import matplotlib.pyplot as plt\n",
    "import numpy as np\n",
    "import pandas as pd\n",
    "%config Completer.use_jedi = False # this speeds up autocomplete"
   ]
  },
  {
   "cell_type": "code",
   "execution_count": 12,
   "id": "noted-proposal",
   "metadata": {
    "scrolled": true
   },
   "outputs": [],
   "source": [
    "# (0,0), (0, 1)\n",
    "# tamX = 4\n",
    "# tamY = 4\n",
    "\n",
    "mapa = [['3','3','3','5'], \n",
    "        ['3','3','3','0'],\n",
    "        ['3','3','3','1'],\n",
    "        ['3','3','3','1']]\n",
    "\n",
    "# Definir a posição de X e de Y\n",
    "# posX = 0\n",
    "# posY = 0\n",
    "\n",
    "def tesouro(posX, posY):\n",
    "    while (True):\n",
    "        if mapa[posX][posY] == '3':\n",
    "            posY = posY + 1\n",
    "        elif mapa[posX][posY] == '5':\n",
    "            #direcao = '<'\n",
    "            posX = posX + 1\n",
    "        elif mapa[posX][posY] == '1':\n",
    "            #direcao = '^'\n",
    "            posX = posX - 1\n",
    "        elif mapa[posX][posY] == '0':\n",
    "            print(\"Achou o tesouro!\")\n",
    "            break\n",
    "        #else:\n",
    "        #    if direcao == '>':\n",
    "        #        posX = posX + 1\n",
    "        #    if direcao == '<':\n",
    "        #        posX = posX - 1\n",
    "        #    if direcao == '^':\n",
    "        #        posY = posY + 1\n",
    "        #    if direcao == 'v':\n",
    "        #        posY = posY + 1\n",
    "\n",
    "        print('X e Y: ', posX, ' ', posY)"
   ]
  }
 ],
 "metadata": {
  "kernelspec": {
   "display_name": "Python 3",
   "language": "python",
   "name": "python3"
  },
  "language_info": {
   "codemirror_mode": {
    "name": "ipython",
    "version": 3
   },
   "file_extension": ".py",
   "mimetype": "text/x-python",
   "name": "python",
   "nbconvert_exporter": "python",
   "pygments_lexer": "ipython3",
   "version": "3.9.1"
  }
 },
 "nbformat": 4,
 "nbformat_minor": 5
}
