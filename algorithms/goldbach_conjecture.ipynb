{
 "cells": [
  {
   "cell_type": "markdown",
   "id": "protective-cattle",
   "metadata": {},
   "source": [
    "## Goldbach's Conjecture"
   ]
  },
  {
   "cell_type": "markdown",
   "id": "approved-pavilion",
   "metadata": {
    "scrolled": true
   },
   "source": [
    "Goldbach's conjecture (still not proven) stipulates that any even number equal or greater than 4 is the sum of two prime numbers. \n",
    "\n",
    "To read more: https://en.wikipedia.org/wiki/Goldbach%27s_conjecture"
   ]
  },
  {
   "cell_type": "markdown",
   "id": "electoral-kentucky",
   "metadata": {},
   "source": [
    "#### Creating function to define if a number is prime"
   ]
  },
  {
   "cell_type": "code",
   "execution_count": 3,
   "id": "agricultural-imaging",
   "metadata": {},
   "outputs": [],
   "source": [
    "# Is a number prime?\n",
    "# Making a function to establish if a number is prime\n",
    "\n",
    "def is_prime(number):\n",
    "    # Initiating list\n",
    "    dividers_list = []\n",
    "    \n",
    "    # Initiating i\n",
    "    i = 2 # that's because any number is divisible by 1, so we start with 2\n",
    "    \n",
    "    if number % 2 == 0:\n",
    "        return False\n",
    "    \n",
    "    while (i <= number/2) & (dividers_list == []):\n",
    "        if number % i == 0:\n",
    "            dividers_list.append(i)\n",
    "        i = i + 1\n",
    "    \n",
    "    if dividers_list == []:\n",
    "        return True\n",
    "    else:\n",
    "        return False"
   ]
  },
  {
   "cell_type": "markdown",
   "id": "mighty-trading",
   "metadata": {},
   "source": [
    "#### Creating function to get list of prime numbers before a given number"
   ]
  },
  {
   "cell_type": "code",
   "execution_count": 4,
   "id": "infinite-paste",
   "metadata": {},
   "outputs": [],
   "source": [
    "# Give me a list of prime numbers before 'number'\n",
    "def list_primes_before(number):\n",
    "    # ===\n",
    "    \n",
    "    # Initiating middle list\n",
    "    primes_list = []\n",
    "    \n",
    "    # Initializing i\n",
    "    i = 2\n",
    "\n",
    "    # ===\n",
    "    \n",
    "    # Low number\n",
    "    if number <= 1:\n",
    "        print('This can not be computed')\n",
    "    \n",
    "    # ===\n",
    "    \n",
    "    for i in range(i, number):\n",
    "        if is_prime(i) == True:\n",
    "            primes_list.append(i)\n",
    "            i = i + 1\n",
    "        else:\n",
    "            i = i + 1\n",
    "    return primes_list"
   ]
  },
  {
   "cell_type": "markdown",
   "id": "painted-treasurer",
   "metadata": {},
   "source": [
    "#### Creating function to determine which prime numbers, when summed, equals a given number"
   ]
  },
  {
   "cell_type": "code",
   "execution_count": 5,
   "id": "widespread-designer",
   "metadata": {},
   "outputs": [],
   "source": [
    "# Which numbers in a prime list before 'number', when summed, equals 'number'\n",
    "\n",
    "def get_primes_sum():\n",
    "    \n",
    "    # ===\n",
    "    \n",
    "    try:\n",
    "        \n",
    "        even_number = int(input('Pick an even positive number: '))\n",
    "        \n",
    "        if even_number % 2 == 0:\n",
    "            \n",
    "            # Creating 'primes_list'\n",
    "            primes_list = list_primes_before(even_number)\n",
    "\n",
    "            # Initializing 'ind_1' & 'final_list'\n",
    "            ind_1 = 0\n",
    "            final_list = []\n",
    "\n",
    "            # ===\n",
    "\n",
    "            while ind_1 < len(primes_list):\n",
    "                for i in range(ind_1, len(primes_list)):\n",
    "\n",
    "                    if primes_list[ind_1] + primes_list[i] != even_number:\n",
    "                        i = i + 1\n",
    "\n",
    "                    elif primes_list[ind_1] + primes_list[i] == even_number:\n",
    "                        final_list.append(primes_list[ind_1])\n",
    "                        final_list.append(primes_list[i])\n",
    "\n",
    "                    else:\n",
    "                        break\n",
    "\n",
    "                if final_list != []:\n",
    "\n",
    "                    print('We can easily get', str(even_number), 'when we add together', str(final_list[0]), 'and', str(final_list[1]), '- both of which are prime numbers.')\n",
    "                    break\n",
    "\n",
    "                else:\n",
    "                    ind_1 = ind_1 + 1\n",
    "              \n",
    "        else:\n",
    "            print('Sorry... You added an odd number. Run again with another number - this time with an even one.\\n')\n",
    "                        \n",
    "            get_primes_sum()\n",
    "\n",
    "        # ===\n",
    "\n",
    "    \n",
    "    except ValueError:\n",
    "        print('Sorry, you added the wrong form of input. Try adding an integer.\\nExample: 2120\\n')\n",
    "        get_primes_sum()\n",
    "    \n",
    "    # ==="
   ]
  },
  {
   "cell_type": "code",
   "execution_count": 66,
   "id": "verified-usage",
   "metadata": {},
   "outputs": [
    {
     "name": "stdout",
     "output_type": "stream",
     "text": [
      "Pick an even positive number: 100000\n",
      "We can easily get 100000 when we add together 11 and 99989 - both of which are prime numbers.\n"
     ]
    }
   ],
   "source": [
    "get_primes_sum()"
   ]
  },
  {
   "cell_type": "code",
   "execution_count": 6,
   "id": "organized-classics",
   "metadata": {},
   "outputs": [
    {
     "name": "stdout",
     "output_type": "stream",
     "text": [
      "Pick an even positive number: 152\n",
      "We can easily get 152 when we add together 3 and 149 - both of which are prime numbers.\n"
     ]
    }
   ],
   "source": [
    "get_primes_sum()"
   ]
  },
  {
   "cell_type": "code",
   "execution_count": 7,
   "id": "computational-civilian",
   "metadata": {},
   "outputs": [
    {
     "name": "stdout",
     "output_type": "stream",
     "text": [
      "Pick an even positive number: 11\n",
      "Sorry... You added an odd number. Run again with another number - this time with an even one.\n",
      "\n",
      "Pick an even positive number: 56\n",
      "We can easily get 56 when we add together 3 and 53 - both of which are prime numbers.\n"
     ]
    }
   ],
   "source": [
    "get_primes_sum()"
   ]
  },
  {
   "cell_type": "code",
   "execution_count": 8,
   "id": "roman-history",
   "metadata": {},
   "outputs": [
    {
     "name": "stdout",
     "output_type": "stream",
     "text": [
      "Pick an even positive number: This is a text.\n",
      "Sorry, you added the wrong form of input. Try adding an integer.\n",
      "Example: 2120\n",
      "\n",
      "Pick an even positive number: 2120\n",
      "We can easily get 2120 when we add together 7 and 2113 - both of which are prime numbers.\n"
     ]
    }
   ],
   "source": [
    "get_primes_sum()"
   ]
  }
 ],
 "metadata": {
  "kernelspec": {
   "display_name": "Python 3",
   "language": "python",
   "name": "python3"
  },
  "language_info": {
   "codemirror_mode": {
    "name": "ipython",
    "version": 3
   },
   "file_extension": ".py",
   "mimetype": "text/x-python",
   "name": "python",
   "nbconvert_exporter": "python",
   "pygments_lexer": "ipython3",
   "version": "3.9.1"
  }
 },
 "nbformat": 4,
 "nbformat_minor": 5
}
