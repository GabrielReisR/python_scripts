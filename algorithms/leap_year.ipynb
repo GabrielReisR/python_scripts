{
 "cells": [
  {
   "cell_type": "code",
   "execution_count": 67,
   "id": "guided-bible",
   "metadata": {},
   "outputs": [],
   "source": [
    "'''\n",
    "Discovering if a year is a leap year.\n",
    "\n",
    "Condition 1: when an year is divisable by 4 & NOT 100, it's a leap year.\n",
    "Condition 2: When an year is divisable by 100 & 400, it's a leap year.\n",
    "''' \n",
    "\n",
    "def is_leap():\n",
    "    \n",
    "    # Getting year input\n",
    "    try:\n",
    "        year = int(input('Enter a year: '))\n",
    "    \n",
    "        # Condition 1:\n",
    "        if ((year % 4 == 0) & (year % 100 != 0)):\n",
    "            print('Calculating...\\nThe year ' + str(year) + ' is a leap year!')\n",
    "\n",
    "        # Condition 2:\n",
    "        elif ((year % 100 == 0) & (year % 400 == 0)):\n",
    "            print('Calculating...\\nThe year ' + str(year) + ' is a leap year!')\n",
    "        \n",
    "        # When it's not a leap year...\n",
    "        else:\n",
    "            print('Calculating...\\nWell, apparently ' + str(year) + ' is NOT a leap year!')\n",
    "        \n",
    "    except ValueError:\n",
    "        print('It appears that you entered year in a difficult format. \\nPlease, enter it as an integer.\\nExample: 2012\\n')\n",
    "        is_leap()"
   ]
  },
  {
   "cell_type": "code",
   "execution_count": 68,
   "id": "assured-paraguay",
   "metadata": {
    "scrolled": true
   },
   "outputs": [
    {
     "name": "stdout",
     "output_type": "stream",
     "text": [
      "Enter a year: 32222\n",
      "Calculating...\n",
      "Well, apparently 32222 is NOT a leap year!\n"
     ]
    }
   ],
   "source": [
    "is_leap()"
   ]
  },
  {
   "cell_type": "code",
   "execution_count": null,
   "id": "spatial-tunnel",
   "metadata": {},
   "outputs": [],
   "source": []
  }
 ],
 "metadata": {
  "kernelspec": {
   "display_name": "Python 3",
   "language": "python",
   "name": "python3"
  },
  "language_info": {
   "codemirror_mode": {
    "name": "ipython",
    "version": 3
   },
   "file_extension": ".py",
   "mimetype": "text/x-python",
   "name": "python",
   "nbconvert_exporter": "python",
   "pygments_lexer": "ipython3",
   "version": "3.9.1"
  }
 },
 "nbformat": 4,
 "nbformat_minor": 5
}
