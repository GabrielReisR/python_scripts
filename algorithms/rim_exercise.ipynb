{
 "cells": [
  {
   "cell_type": "markdown",
   "metadata": {},
   "source": [
    "### Importing libraries"
   ]
  },
  {
   "cell_type": "code",
   "execution_count": 5,
   "metadata": {},
   "outputs": [],
   "source": [
    "import math\n",
    "import matplotlib.pyplot as plt\n",
    "import numpy as np\n",
    "import pandas as pd\n",
    "%config Completer.use_jedi = False # this speeds up autocomplete in jupyter"
   ]
  },
  {
   "cell_type": "markdown",
   "metadata": {},
   "source": [
    "### Following the first example (p. 5)"
   ]
  },
  {
   "cell_type": "code",
   "execution_count": 6,
   "metadata": {},
   "outputs": [],
   "source": [
    "x = 40\n",
    "x_norm = 0\n",
    "\n",
    "total_range = np.array(range(23, 61))\n",
    "reference = np.array(range(30, 36))"
   ]
  },
  {
   "cell_type": "code",
   "execution_count": 7,
   "metadata": {},
   "outputs": [
    {
     "name": "stdout",
     "output_type": "stream",
     "text": [
      "0.8\n"
     ]
    }
   ],
   "source": [
    "# Creating simplified function to generalize it later\n",
    "\n",
    "if (x >= reference[0] and x <= reference[-1]):\n",
    "    \n",
    "    x_norm = 1\n",
    "    print(x_norm)\n",
    "\n",
    "elif (x >= total_range[0] and x <= reference[0]):\n",
    "    \n",
    "    if (abs(x - reference[0]) <= abs(x - reference[-1])) :\n",
    "        x_norm = 1 - (abs(x - reference[0]) /\n",
    "                     abs(total_range[0] - reference[0]))\n",
    "        print(x_norm)\n",
    "    \n",
    "    else:\n",
    "        x_norm = 1 - (abs(x - reference[-1]) /\n",
    "                     abs(total_range[0] - reference[0]))\n",
    "        print(x_norm)\n",
    "\n",
    "elif (x >= reference[-1] and x <= total_range[-1]):\n",
    "    \n",
    "    if (abs(x - reference[0]) <= abs(x - reference[-1])) :\n",
    "        x_norm = 1 - (abs(x - reference[0]) /\n",
    "                     abs(reference[-1] - total_range[-1]))\n",
    "        print(x_norm)\n",
    "    \n",
    "    else:\n",
    "        x_norm = 1 - (abs(x - reference[-1]) /\n",
    "                     abs(reference[-1] - total_range[-1]))\n",
    "        print(x_norm)"
   ]
  },
  {
   "cell_type": "markdown",
   "metadata": {},
   "source": [
    "### Creating data, ranges, references and weights (p. 6)"
   ]
  },
  {
   "cell_type": "code",
   "execution_count": 8,
   "metadata": {},
   "outputs": [
    {
     "data": {
      "text/plain": [
       "array([[30,  0,  2,  3,  3,  2],\n",
       "       [40,  9,  1,  3,  2,  2],\n",
       "       [25,  0,  3,  1,  3,  2],\n",
       "       [27,  0,  5,  3,  3,  1],\n",
       "       [45, 15,  2,  2,  3,  4]])"
      ]
     },
     "execution_count": 8,
     "metadata": {},
     "output_type": "execute_result"
    }
   ],
   "source": [
    "# Inputting data\n",
    "age       = np.array([30, 40, 25, 27, 45])\n",
    "years_exp = np.array([0, 9, 0, 0, 15])\n",
    "sanctions = np.array([2, 1, 3, 5, 2])\n",
    "mechanics = np.array([3, 3, 1, 3, 2])\n",
    "phy_limit = np.array([3, 2, 3, 3, 3])\n",
    "emot_stab = np.array([2, 2, 2, 1, 4])\n",
    "\n",
    "initial_matrix = np.stack((age, years_exp, sanctions, mechanics, phy_limit, emot_stab),\n",
    "                          axis = 1)\n",
    "\n",
    "initial_matrix"
   ]
  },
  {
   "cell_type": "code",
   "execution_count": 9,
   "metadata": {},
   "outputs": [
    {
     "data": {
      "text/plain": [
       "array([array([23, 24, 25, 26, 27, 28, 29, 30, 31, 32, 33, 34, 35, 36, 37, 38, 39,\n",
       "       40, 41, 42, 43, 44, 45, 46, 47, 48, 49, 50, 51, 52, 53, 54, 55, 56,\n",
       "       57, 58, 59, 60]),\n",
       "       array([ 0,  1,  2,  3,  4,  5,  6,  7,  8,  9, 10, 11, 12, 13, 14, 15]),\n",
       "       array([ 0,  1,  2,  3,  4,  5,  6,  7,  8,  9, 10]),\n",
       "       array([1, 2, 3]), array([1, 2, 3]), array([1, 2, 3, 4, 5])],\n",
       "      dtype=object)"
      ]
     },
     "execution_count": 9,
     "metadata": {},
     "output_type": "execute_result"
    }
   ],
   "source": [
    "# Range values\n",
    "\n",
    "age_ran       = np.array(range(23, 61))\n",
    "years_exp_ran = np.array(range(0, 16))\n",
    "sanctions_ran = np.array(range(0, 11))\n",
    "mechanics_ran = np.array(range(1, 4))\n",
    "phy_limit_ran = np.array(range(1, 4))\n",
    "emot_stab_ran = np.array(range(1, 6))\n",
    "\n",
    "range_matrix = np.array([age_ran, years_exp_ran, sanctions_ran, mechanics_ran, phy_limit_ran, emot_stab_ran], \n",
    "                        dtype = object)\n",
    "\n",
    "range_matrix"
   ]
  },
  {
   "cell_type": "code",
   "execution_count": 10,
   "metadata": {},
   "outputs": [
    {
     "data": {
      "text/plain": [
       "array([array([30, 31, 32, 33, 34, 35]), array([10, 11, 12, 13, 14, 15]),\n",
       "       array([0]), array([3]), array([3]), array([4, 5])], dtype=object)"
      ]
     },
     "execution_count": 10,
     "metadata": {},
     "output_type": "execute_result"
    }
   ],
   "source": [
    "# Reference values\n",
    "\n",
    "age_ref       = np.array(range(30, 36))\n",
    "years_exp_ref = np.array(range(10, 16))\n",
    "sanctions_ref = np.array([0])\n",
    "mechanics_ref = np.array([3])\n",
    "phy_limit_ref = np.array([3])\n",
    "emot_stab_ref = np.array([4, 5])\n",
    "\n",
    "ref_matrix = np.array([age_ref, years_exp_ref, sanctions_ref, mechanics_ref, phy_limit_ref, emot_stab_ref], \n",
    "                        dtype = object)\n",
    "\n",
    "ref_matrix"
   ]
  },
  {
   "cell_type": "code",
   "execution_count": 11,
   "metadata": {},
   "outputs": [
    {
     "data": {
      "text/plain": [
       "array([0.2262, 0.2143, 0.1786, 0.1429, 0.119 , 0.119 ])"
      ]
     },
     "execution_count": 11,
     "metadata": {},
     "output_type": "execute_result"
    }
   ],
   "source": [
    "# Weight values\n",
    "age_w       = 0.2262\n",
    "years_exp_w = 0.2143\n",
    "sanctions_w = 0.1786\n",
    "mechanics_w = 0.1429\n",
    "phy_limit_w = 0.1190\n",
    "emot_stab_w = 0.1190\n",
    "\n",
    "weight_matrix = np.stack((age_w, years_exp_w, sanctions_w, mechanics_w, phy_limit_w, emot_stab_w),\n",
    "                         axis = 0)\n",
    "\n",
    "weight_matrix"
   ]
  },
  {
   "cell_type": "markdown",
   "metadata": {},
   "source": [
    "### Normalizing function"
   ]
  },
  {
   "cell_type": "code",
   "execution_count": 12,
   "metadata": {},
   "outputs": [
    {
     "data": {
      "text/plain": [
       "'\\nNovamente o j permanece constante, e o i recebe um for loop, aumentando em i += 1 a cada rodada.\\nEsse looping se repete até que j == np.shape(initial_matrix)[-1] - ou seja, todas as colunas terminaram.\\n'"
      ]
     },
     "execution_count": 12,
     "metadata": {},
     "output_type": "execute_result"
    }
   ],
   "source": [
    "# Entendendo o que está acontecendo na função de normalização,\n",
    "# caso resolvêssemos fazer um 'for loop'\n",
    "\n",
    "'''\n",
    "Situação 1\n",
    "Para o primeiro elemento da primeira coluna ('initial_matrix[0, 0]', o valor de range considerado \n",
    "seria o da coluna 0 de 'range_matrix' ('range_matrix[0]'), e o valor de referência também seria\n",
    "o da coluna 0 de 'ref_matrix' ('ref_matrix[0]').\n",
    "\n",
    "Para o segundo elemento da primeira coluna ('initial_matrix[1, 0]', o valor de range considerado \n",
    "seria o da coluna 0 de 'range_matrix' ('range_matrix[0]'), e o valor de referência também seria\n",
    "o da coluna 0 de 'ref_matrix' ('ref_matrix[0]').\n",
    "\n",
    "Ou seja, 'range_matrix' e 'ref_matrix' possuem igual valor para todos elementos da primeira coluna.\n",
    "'''\n",
    "initial_matrix[0, 0] # i = 0, j = 0\n",
    "range_matrix[0] # j = 0\n",
    "ref_matrix[0] # j = 0\n",
    "\n",
    "initial_matrix[1, 0] # i = 1, j = 0\n",
    "range_matrix[0] # j = 0\n",
    "ref_matrix[0] # j = 0\n",
    "\n",
    "initial_matrix[2, 0] # i = 2, j = 0\n",
    "range_matrix[0] # j = 0\n",
    "ref_matrix[0] # j = 0\n",
    "\n",
    "'''\n",
    "O que faria se fosse um for loop?\n",
    "\n",
    "Eu realizo primeiro um i + 1 para cada i entre 0 até np.shape(initial_matrix)[0] - ou seja, linhas, que são 6.\n",
    "Esse é o loop das linhas.\n",
    "Mantenho o j constante nesse interim.\n",
    "\n",
    "Após a finalização das linhas com o j constante (quando i = np.shape(initial_matrix[-1])), j = j+1.\n",
    "\n",
    "Assim, eu vou modificar o j e reiniciar o i em 0.\n",
    "'''\n",
    "# Situação 2\n",
    "initial_matrix[0, 1] # i = 0, j = 1\n",
    "range_matrix[1] # j = 1\n",
    "ref_matrix[1] # j = 1\n",
    "\n",
    "initial_matrix[1, 1] # i = 1, j = 1\n",
    "range_matrix[1] # j = 0\n",
    "ref_matrix[1] # j = 0\n",
    "\n",
    "initial_matrix[2, 1] # i = 2, j = 1\n",
    "range_matrix[1] # j = 1\n",
    "ref_matrix[1] # j = 1\n",
    "\n",
    "'''\n",
    "Novamente o j permanece constante, e o i recebe um for loop, aumentando em i += 1 a cada rodada.\n",
    "Esse looping se repete até que j == np.shape(initial_matrix)[-1] - ou seja, todas as colunas terminaram.\n",
    "'''"
   ]
  },
  {
   "cell_type": "code",
   "execution_count": 13,
   "metadata": {},
   "outputs": [
    {
     "name": "stdout",
     "output_type": "stream",
     "text": [
      "[[1], [0.8], [0.2857142857142857], [0.5714285714285714], [0.6], [0.0], [0.9], [0.0], [0.0], [1], [0.8], [0.9], [0.7], [0.5], [0.8], [1], [1], [0.0], [1], [0.5], [1], [0.5], [1], [1], [1], [0.33333333333333337], [0.33333333333333337], [0.33333333333333337], [0.0], [1]]\n"
     ]
    }
   ],
   "source": [
    "# Function\n",
    "\n",
    "norm_matrix = [] # inicialização\n",
    "\n",
    "for j in range(0, np.shape(initial_matrix)[-1]): # Para cada coluna j entre 0 e 6\n",
    "    \n",
    "    for i in range(0, np.shape(initial_matrix)[0]): # Para cada linha i entre 0 e 5\n",
    "        \n",
    "        values = []\n",
    "        x = initial_matrix[i][j]\n",
    "        \n",
    "        A = range_matrix[j][0]\n",
    "        B = range_matrix[j][-1]\n",
    "        C = ref_matrix[j][0]\n",
    "        D = ref_matrix[j][-1]\n",
    "        \n",
    "        # Se o valor de x estiver entre valores de referência\n",
    "        if (x >= C and x <= D):\n",
    "\n",
    "            x_norm = 1 # x normalizado vira 1\n",
    "            \n",
    "            values.append(x_norm) # esse valor é adicionado à lista temporária 'values'\n",
    "            i += 1\n",
    "        \n",
    "        # Se o valor de x for menor que o da referência\n",
    "        elif (x >= A and x <= C):\n",
    "            x_norm = 1 - (min(abs(x - C), abs(x - D)) /\n",
    "                          abs(A - C))\n",
    "            \n",
    "            values.append(x_norm) # esse valor é adicionado à lista temporária 'values'\n",
    "            i += 1\n",
    "        \n",
    "        # Se o valor de x for maior que o da referência\n",
    "        elif (x >= D and x <= B):\n",
    "            \n",
    "            x_norm = 1 - (min(abs(x - C), abs(x - D)) /\n",
    "                             abs(D - B))\n",
    "            \n",
    "            values.append(x_norm) # esse valor é adicionado à lista temporária 'values'\n",
    "            i += 1\n",
    "\n",
    "        # Tudo na lista 'values' vai para a matriz final 'norm_matrix'\n",
    "        norm_matrix.append(values)\n",
    "\n",
    "print(norm_matrix)"
   ]
  },
  {
   "cell_type": "code",
   "execution_count": 14,
   "metadata": {},
   "outputs": [
    {
     "name": "stdout",
     "output_type": "stream",
     "text": [
      "[[1.         0.         0.8        1.         1.         0.33333333]\n",
      " [0.8        0.9        0.9        1.         0.5        0.33333333]\n",
      " [0.28571429 0.         0.7        0.         1.         0.33333333]\n",
      " [0.57142857 0.         0.5        1.         1.         0.        ]\n",
      " [0.6        1.         0.8        0.5        1.         1.        ]]\n"
     ]
    }
   ],
   "source": [
    "# Reorganizando 'norm_matrix'\n",
    "norm_matrix = np.array(norm_matrix)\n",
    "norm_matrix = np.reshape(norm_matrix, (6, 5)).T\n",
    "\n",
    "print(norm_matrix)"
   ]
  },
  {
   "cell_type": "markdown",
   "metadata": {},
   "source": [
    "### Weighting function"
   ]
  },
  {
   "cell_type": "code",
   "execution_count": 171,
   "metadata": {
    "scrolled": true
   },
   "outputs": [
    {
     "name": "stdout",
     "output_type": "stream",
     "text": [
      "[[0.2262     0.         0.14288    0.1429     0.119      0.03966667]\n",
      " [0.18096    0.19287    0.16074    0.1429     0.0595     0.03966667]\n",
      " [0.06462857 0.         0.12502    0.         0.119      0.03966667]\n",
      " [0.12925714 0.         0.0893     0.1429     0.119      0.        ]\n",
      " [0.13572    0.2143     0.14288    0.07145    0.119      0.119     ]]\n"
     ]
    }
   ],
   "source": [
    "weighted_matrix = norm_matrix * weight_matrix\n",
    "\n",
    "print(weighted_matrix)"
   ]
  },
  {
   "cell_type": "markdown",
   "metadata": {},
   "source": [
    "### Indexes function"
   ]
  },
  {
   "cell_type": "code",
   "execution_count": 172,
   "metadata": {},
   "outputs": [],
   "source": [
    "col_pos = []\n",
    "col_neg = []\n",
    "col_r = []\n",
    "\n",
    "\n",
    "for i in range(0, np.shape(weighted_matrix)[0]):\n",
    "\n",
    "    line = weighted_matrix[i]\n",
    "\n",
    "    # I positive\n",
    "    i_pos = math.sqrt(sum((line - weight_matrix) ** 2))\n",
    "\n",
    "    col_pos.append(i_pos)\n",
    "\n",
    "    # I negative\n",
    "    i_neg = math.sqrt(sum((line ** 2)))\n",
    "\n",
    "    col_neg.append(i_neg)\n",
    "\n",
    "    # R\n",
    "    r = i_neg / (i_neg + i_pos)\n",
    "\n",
    "    col_r.append(r)\n",
    "\n",
    "    i += 1"
   ]
  },
  {
   "cell_type": "code",
   "execution_count": 187,
   "metadata": {},
   "outputs": [
    {
     "name": "stdout",
     "output_type": "stream",
     "text": [
      "[['A' '0.23128810211028533' '0.3282316085395257' '0.5866310020755594']\n",
      " ['B' '0.11251182105795718' '0.348305628068862' '0.755842967163786']\n",
      " ['C' '0.31877079651120804' '0.18852399605711312' '0.3716261211802666']\n",
      " ['D' '0.2783125896380191' '0.24344056559988483' '0.4665818752718097']\n",
      " ['E' '0.12069652563350779' '0.34378220620037914' '0.740146281495031']]\n"
     ]
    }
   ],
   "source": [
    "letters = ['A', 'B', 'C', 'D', 'E']\n",
    "indexes = np.stack((letters, col_pos, col_neg, col_r),\n",
    "                   axis = 1)\n",
    "\n",
    "print(indexes)"
   ]
  }
 ],
 "metadata": {
  "kernelspec": {
   "display_name": "Python 3",
   "language": "python",
   "name": "python3"
  },
  "language_info": {
   "codemirror_mode": {
    "name": "ipython",
    "version": 3
   },
   "file_extension": ".py",
   "mimetype": "text/x-python",
   "name": "python",
   "nbconvert_exporter": "python",
   "pygments_lexer": "ipython3",
   "version": "3.8.5"
  }
 },
 "nbformat": 4,
 "nbformat_minor": 5
}
