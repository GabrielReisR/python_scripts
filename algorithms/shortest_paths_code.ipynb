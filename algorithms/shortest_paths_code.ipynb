{
 "cells": [
  {
   "cell_type": "markdown",
   "metadata": {
    "id": "6oepoQdipT3x"
   },
   "source": [
    "**CAMINHO MÍNIMO** | 2 algoritmos"
   ]
  },
  {
   "cell_type": "markdown",
   "metadata": {
    "id": "YwESXyCkJNoc"
   },
   "source": [
    "**Algoritmo de Dijkstra**"
   ]
  },
  {
   "cell_type": "markdown",
   "metadata": {
    "id": "LAXyZx19It8X"
   },
   "source": [
    "Fonte: https://malbarbo.pro.br/arquivos/2012/1747/dijkstra.py"
   ]
  },
  {
   "cell_type": "code",
   "execution_count": null,
   "metadata": {
    "colab": {
     "base_uri": "https://localhost:8080/"
    },
    "id": "Gl5xtGcJIeUG",
    "outputId": "76c18212-a230-4ffd-c440-692cd6bdb545"
   },
   "outputs": [
    {
     "name": "stdout",
     "output_type": "stream",
     "text": [
      "d = [0, 8, 9, 5, 7]\n",
      "pai = [None, 3, 1, 0, 3]\n"
     ]
    }
   ],
   "source": [
    "# Este programa é um exemplo de implementação direta (sem usar estruturas\n",
    "# elaboradas) do algoritmo de Dijkstra\n",
    "\n",
    "# Baseado no algoritmo descrito no livro \"Algoritmos: Teoria e Prática\"\n",
    "#   A fila de prioridade é implementado fazendo um busca linear em um\n",
    "#   no vetor de estimativas de menores distâncias, semelhante a\n",
    "#   implementação de fila de prioridade do algoritmo de Prim do\n",
    "#   exercício 23.2-2\n",
    "\n",
    "def initialize_single_source(g, s):\n",
    "    n = len(g)\n",
    "    d = [None] * n\n",
    "    pai = [None] * n\n",
    "    for v in range(n): # for each v in g.V\n",
    "        d[v] = float(\"+infinity\")\n",
    "        pai[v] = None\n",
    "    d[s] = 0\n",
    "    return d, pai\n",
    "\n",
    "def extract_min(Q, S):\n",
    "    n = len(Q)\n",
    "    min = None\n",
    "    for v in range(n): # for each v in g.V\n",
    "        if not S[v]:\n",
    "           if min == None:\n",
    "               min = v\n",
    "           elif Q[v] < Q[min]:\n",
    "               min = v\n",
    "    return min\n",
    "\n",
    "def dijkstra(g, s):\n",
    "    d, pai = initialize_single_source(g, s)\n",
    "    n = len(g)\n",
    "    S = [False] * n # atributo do vértice que indica se\n",
    "                    # ele faz parte da árvore de caminhos mínimos\n",
    "    Q = d           # a fila de prioridade é o próprio vetor de\n",
    "                    # estimativas de menor distância\n",
    "    for i in range(n):\n",
    "        u = extract_min(Q, S)\n",
    "        S[u] = True # vértice adicionado a árvore de caminhos mínimos\n",
    "        for w, v in g[u]: # w é o peso da aresta (u, v)\n",
    "            if d[v] > d[u] + w:\n",
    "                d[v] = d[u] + w\n",
    "                pai[v] = u\n",
    "                # decrease-key não é necessário\n",
    "                # a lista Q é uma reverência para a lista d\n",
    "                # como a lista d foi altera, Q também foi\n",
    "    return d, pai\n",
    "\n",
    "def teste():\n",
    "    # cada elemento da lista de adjacências do vértice u é uma tupla (w, v)\n",
    "    # onde w é o peso da aresta (u, v)\n",
    "    # grafo da figura 24.6\n",
    "    g = [\n",
    "        [(10, 1), (5, 3)],\n",
    "        [(1, 2), (2, 3)],\n",
    "        [(4, 4)],\n",
    "        [(3, 1), (9, 2), (2, 4)],\n",
    "        [(7, 0), (6, 2)]\n",
    "    ]\n",
    "\n",
    "    d, pai = dijkstra(g, 0)\n",
    "\n",
    "    assert d ==  [0, 8, 9, 5, 7]     \n",
    "    print (\"d =\", d)\n",
    "\n",
    "    assert pai == [None, 3, 1, 0, 3]\n",
    "    print (\"pai =\", pai)\n",
    "\n",
    "if __name__ == \"__main__\":\n",
    "    teste()"
   ]
  },
  {
   "cell_type": "markdown",
   "metadata": {
    "id": "4xhXatHFLdYW"
   },
   "source": [
    "Fonte: https://www.geeksforgeeks.org/python-program-for-dijkstras-shortest-path-algorithm-greedy-algo-7/ "
   ]
  },
  {
   "cell_type": "code",
   "execution_count": null,
   "metadata": {
    "colab": {
     "base_uri": "https://localhost:8080/"
    },
    "id": "MBHPKi7zLd8K",
    "outputId": "6700640c-a351-4787-c4d6-022f3016a3e1"
   },
   "outputs": [
    {
     "name": "stdout",
     "output_type": "stream",
     "text": [
      "Vertex tDistance from Source\n",
      "0 t 0\n",
      "1 t 4\n",
      "2 t 12\n",
      "3 t 19\n",
      "4 t 21\n",
      "5 t 11\n",
      "6 t 9\n",
      "7 t 8\n",
      "8 t 14\n"
     ]
    }
   ],
   "source": [
    "# Python program for Dijkstra's single\n",
    "# source shortest path algorithm. The program is\n",
    "# for adjacency matrix representation of the graph\n",
    "\n",
    "# Library for INT_MAX\n",
    "import sys\n",
    "\n",
    "class Graph():\n",
    "\n",
    "\tdef __init__(self, vertices):\n",
    "\t\tself.V = vertices\n",
    "\t\tself.graph = [[0 for column in range(vertices)]\n",
    "\t\t\t\t\tfor row in range(vertices)]\n",
    "\n",
    "\tdef printSolution(self, dist):\n",
    "\t\tprint(\"Vertex tDistance from Source\")\n",
    "\t\tfor node in range(self.V):\n",
    "\t\t\tprint(node, \"t\", dist[node])\n",
    "\n",
    "\t# A utility function to find the vertex with\n",
    "\t# minimum distance value, from the set of vertices\n",
    "\t# not yet included in shortest path tree\n",
    "\tdef minDistance(self, dist, sptSet):\n",
    "\n",
    "\t\t# Initilaize minimum distance for next node\n",
    "\t\tmin = sys.maxsize\n",
    "\n",
    "\t\t# Search not nearest vertex not in the\n",
    "\t\t# shortest path tree\n",
    "\t\tfor v in range(self.V):\n",
    "\t\t\tif dist[v] < min and sptSet[v] == False:\n",
    "\t\t\t\tmin = dist[v]\n",
    "\t\t\t\tmin_index = v\n",
    "\n",
    "\t\treturn min_index\n",
    "\n",
    "\t# Funtion that implements Dijkstra's single source\n",
    "\t# shortest path algorithm for a graph represented\n",
    "\t# using adjacency matrix representation\n",
    "\tdef dijkstra(self, src):\n",
    "\n",
    "\t\tdist = [sys.maxsize] * self.V\n",
    "\t\tdist[src] = 0\n",
    "\t\tsptSet = [False] * self.V\n",
    "\n",
    "\t\tfor cout in range(self.V):\n",
    "\n",
    "\t\t\t# Pick the minimum distance vertex from\n",
    "\t\t\t# the set of vertices not yet processed.\n",
    "\t\t\t# u is always equal to src in first iteration\n",
    "\t\t\tu = self.minDistance(dist, sptSet)\n",
    "\n",
    "\t\t\t# Put the minimum distance vertex in the\n",
    "\t\t\t# shotest path tree\n",
    "\t\t\tsptSet[u] = True\n",
    "\n",
    "\t\t\t# Update dist value of the adjacent vertices\n",
    "\t\t\t# of the picked vertex only if the current\n",
    "\t\t\t# distance is greater than new distance and\n",
    "\t\t\t# the vertex in not in the shotest path tree\n",
    "\t\t\tfor v in range(self.V):\n",
    "\t\t\t\tif self.graph[u][v] > 0 and sptSet[v] == False and dist[v] > dist[u] + self.graph[u][v]:\n",
    "\t\t\t\t\tdist[v] = dist[u] + self.graph[u][v]\n",
    "\n",
    "\t\tself.printSolution(dist)\n",
    "\n",
    "\n",
    "# Driver program\n",
    "g = Graph(9)\n",
    "g.graph = [[0, 4, 0, 0, 0, 0, 0, 8, 0],\n",
    "\t\t[4, 0, 8, 0, 0, 0, 0, 11, 0],\n",
    "\t\t[0, 8, 0, 7, 0, 4, 0, 0, 2],\n",
    "\t\t[0, 0, 7, 0, 9, 14, 0, 0, 0],\n",
    "\t\t[0, 0, 0, 9, 0, 10, 0, 0, 0],\n",
    "\t\t[0, 0, 4, 14, 10, 0, 2, 0, 0],\n",
    "\t\t[0, 0, 0, 0, 0, 2, 0, 1, 6],\n",
    "\t\t[8, 11, 0, 0, 0, 0, 1, 0, 7],\n",
    "\t\t[0, 0, 2, 0, 0, 0, 6, 7, 0]\n",
    "\t\t]\n",
    "\n",
    "g.dijkstra(0)\n",
    "\n",
    "# This code is contributed by Divyanshu Mehta"
   ]
  },
  {
   "cell_type": "markdown",
   "metadata": {
    "id": "K8sPIBUqCrvX"
   },
   "source": []
  },
  {
   "cell_type": "markdown",
   "metadata": {
    "id": "qaI-Tuu-JKzh"
   },
   "source": [
    "**Algoritmo de Bellman-Ford**"
   ]
  },
  {
   "cell_type": "markdown",
   "metadata": {
    "id": "XLBxfLVJJefD"
   },
   "source": [
    "Fonte: https://www.geeksforgeeks.org/bellman-ford-algorithm-dp-23/"
   ]
  },
  {
   "cell_type": "code",
   "execution_count": null,
   "metadata": {
    "colab": {
     "base_uri": "https://localhost:8080/"
    },
    "id": "AnYPGAuGJdxs",
    "outputId": "5de41d72-aab0-43f5-bbaa-83e079b3333a"
   },
   "outputs": [
    {
     "name": "stdout",
     "output_type": "stream",
     "text": [
      "Vertex Distance from Source\n",
      "0\t\t0\n",
      "1\t\t-1\n",
      "2\t\t2\n",
      "3\t\t-2\n",
      "4\t\t1\n"
     ]
    }
   ],
   "source": [
    "# Python3 program for Bellman-Ford's single source\n",
    "# shortest path algorithm.\n",
    " \n",
    "# Class to represent a graph\n",
    "class Graph:\n",
    " \n",
    "    def __init__(self, vertices):\n",
    "        self.V = vertices # No. of vertices\n",
    "        self.graph = []\n",
    " \n",
    "    # function to add an edge to graph\n",
    "    def addEdge(self, u, v, w):\n",
    "        self.graph.append([u, v, w])\n",
    "         \n",
    "    # utility function used to print the solution\n",
    "    def printArr(self, dist):\n",
    "        print(\"Vertex Distance from Source\")\n",
    "        for i in range(self.V):\n",
    "            print(\"{0}\\t\\t{1}\".format(i, dist[i]))\n",
    "     \n",
    "    # The main function that finds shortest distances from src to\n",
    "    # all other vertices using Bellman-Ford algorithm. The function\n",
    "    # also detects negative weight cycle\n",
    "    def BellmanFord(self, src):\n",
    " \n",
    "        # Step 1: Initialize distances from src to all other vertices\n",
    "        # as INFINITE\n",
    "        dist = [float(\"Inf\")] * self.V\n",
    "        dist[src] = 0\n",
    " \n",
    " \n",
    "        # Step 2: Relax all edges |V| - 1 times. A simple shortest\n",
    "        # path from src to any other vertex can have at-most |V| - 1\n",
    "        # edges\n",
    "        for _ in range(self.V - 1):\n",
    "            # Update dist value and parent index of the adjacent vertices of\n",
    "            # the picked vertex. Consider only those vertices which are still in\n",
    "            # queue\n",
    "            for u, v, w in self.graph:\n",
    "                if dist[u] != float(\"Inf\") and dist[u] + w < dist[v]:\n",
    "                        dist[v] = dist[u] + w\n",
    " \n",
    "        # Step 3: check for negative-weight cycles. The above step\n",
    "        # guarantees shortest distances if graph doesn't contain\n",
    "        # negative weight cycle. If we get a shorter path, then there\n",
    "        # is a cycle.\n",
    " \n",
    "        for u, v, w in self.graph:\n",
    "                if dist[u] != float(\"Inf\") and dist[u] + w < dist[v]:\n",
    "                        print(\"Graph contains negative weight cycle\")\n",
    "                        return\n",
    "                         \n",
    "        # print all distance\n",
    "        self.printArr(dist)\n",
    " \n",
    "g = Graph(5)\n",
    "g.addEdge(0, 1, -1)\n",
    "g.addEdge(0, 2, 4)\n",
    "g.addEdge(1, 2, 3)\n",
    "g.addEdge(1, 3, 2)\n",
    "g.addEdge(1, 4, 2)\n",
    "g.addEdge(3, 2, 5)\n",
    "g.addEdge(3, 1, 1)\n",
    "g.addEdge(4, 3, -3)\n",
    " \n",
    "# Print the solution\n",
    "g.BellmanFord(0)\n",
    " \n",
    "# Initially, Contributed by Neelam Yadav\n",
    "# Later On, Edited by Himanshu Garg"
   ]
  }
 ],
 "metadata": {
  "colab": {
   "name": "shortest_paths_code",
   "provenance": []
  },
  "kernelspec": {
   "display_name": "Python 3",
   "language": "python",
   "name": "python3"
  },
  "language_info": {
   "codemirror_mode": {
    "name": "ipython",
    "version": 3
   },
   "file_extension": ".py",
   "mimetype": "text/x-python",
   "name": "python",
   "nbconvert_exporter": "python",
   "pygments_lexer": "ipython3",
   "version": "3.8.5"
  }
 },
 "nbformat": 4,
 "nbformat_minor": 1
}
