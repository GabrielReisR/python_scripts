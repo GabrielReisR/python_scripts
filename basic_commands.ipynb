{
 "cells": [
  {
   "cell_type": "markdown",
   "id": "bibliographic-department",
   "metadata": {},
   "source": [
    "### Importing basic libraries"
   ]
  },
  {
   "cell_type": "code",
   "execution_count": 3,
   "id": "creative-alexander",
   "metadata": {},
   "outputs": [],
   "source": [
    "import math\n",
    "import numpy as np"
   ]
  },
  {
   "cell_type": "markdown",
   "id": "disabled-enough",
   "metadata": {},
   "source": [
    "### Creating variables"
   ]
  },
  {
   "cell_type": "code",
   "execution_count": 1,
   "id": "expressed-prayer",
   "metadata": {},
   "outputs": [],
   "source": [
    "a = 5\n",
    "b = 'python'\n",
    "c = 1.1\n",
    "d = True"
   ]
  },
  {
   "cell_type": "markdown",
   "id": "infinite-network",
   "metadata": {},
   "source": [
    "### Printing variables"
   ]
  },
  {
   "cell_type": "code",
   "execution_count": 2,
   "id": "blank-minute",
   "metadata": {},
   "outputs": [
    {
     "name": "stdout",
     "output_type": "stream",
     "text": [
      "5\n",
      "python\n",
      "1.1\n",
      "True\n"
     ]
    }
   ],
   "source": [
    "print(a)\n",
    "print(b)\n",
    "print(c)\n",
    "print(d)"
   ]
  },
  {
   "cell_type": "markdown",
   "id": "orange-colombia",
   "metadata": {},
   "source": [
    "### Basic mathematical operations"
   ]
  },
  {
   "cell_type": "code",
   "execution_count": 4,
   "id": "prompt-lodging",
   "metadata": {},
   "outputs": [
    {
     "name": "stdout",
     "output_type": "stream",
     "text": [
      "25\n",
      "6.1\n",
      "-3.9\n",
      "0.5999999999999996\n"
     ]
    }
   ],
   "source": [
    "multiplying = a * a\n",
    "print(multiplying)\n",
    "\n",
    "adding = a + c\n",
    "print(adding)\n",
    "\n",
    "difference = c - a\n",
    "print(difference)\n",
    "\n",
    "modulo = a % c # modulo prints the remainder of the division by two numbers\n",
    "print(modulo)"
   ]
  },
  {
   "cell_type": "markdown",
   "id": "surface-debut",
   "metadata": {},
   "source": [
    "### Checking type of variable"
   ]
  },
  {
   "cell_type": "code",
   "execution_count": 9,
   "id": "electric-purse",
   "metadata": {},
   "outputs": [
    {
     "name": "stdout",
     "output_type": "stream",
     "text": [
      "<class 'int'>\n",
      "<class 'str'>\n",
      "<class 'float'>\n",
      "<class 'bool'>\n"
     ]
    }
   ],
   "source": [
    "print(type(a))\n",
    "print(type(b))\n",
    "print(type(c))\n",
    "print(type(d))"
   ]
  },
  {
   "cell_type": "markdown",
   "id": "stable-swing",
   "metadata": {},
   "source": [
    "### Adding two strings"
   ]
  },
  {
   "cell_type": "code",
   "execution_count": 6,
   "id": "black-corporation",
   "metadata": {},
   "outputs": [
    {
     "name": "stdout",
     "output_type": "stream",
     "text": [
      "pythonpython\n"
     ]
    }
   ],
   "source": [
    "print(b + b)"
   ]
  },
  {
   "cell_type": "markdown",
   "id": "driven-banking",
   "metadata": {},
   "source": [
    "### Adding strings and int and floats"
   ]
  },
  {
   "cell_type": "code",
   "execution_count": 12,
   "id": "million-equality",
   "metadata": {},
   "outputs": [
    {
     "name": "stdout",
     "output_type": "stream",
     "text": [
      "This is a basic operation: python allows us to add the integer 5 and the float variable 1.1\n"
     ]
    }
   ],
   "source": [
    "print('This is a basic operation: ' + b + ' allows us to add the integer ' + str(a) + ' and the float variable ' + str(c))"
   ]
  },
  {
   "cell_type": "markdown",
   "id": "front-carbon",
   "metadata": {},
   "source": [
    "### Turning text to integer or float"
   ]
  },
  {
   "cell_type": "code",
   "execution_count": 13,
   "id": "informed-amber",
   "metadata": {},
   "outputs": [
    {
     "name": "stdout",
     "output_type": "stream",
     "text": [
      "1.1\n"
     ]
    }
   ],
   "source": [
    "text = '1.1'\n",
    "float_from_text = float(text)\n",
    "print(float_from_text)"
   ]
  },
  {
   "cell_type": "code",
   "execution_count": 14,
   "id": "unsigned-provincial",
   "metadata": {},
   "outputs": [
    {
     "name": "stdout",
     "output_type": "stream",
     "text": [
      "5\n"
     ]
    }
   ],
   "source": [
    "text = '5'\n",
    "int_from_text = int(text)\n",
    "print(int_from_text)"
   ]
  },
  {
   "cell_type": "markdown",
   "id": "continued-mailing",
   "metadata": {},
   "source": [
    "### Lists"
   ]
  },
  {
   "cell_type": "code",
   "execution_count": 6,
   "id": "crucial-celebrity",
   "metadata": {},
   "outputs": [
    {
     "name": "stdout",
     "output_type": "stream",
     "text": [
      "4\n",
      "berlin\n"
     ]
    }
   ],
   "source": [
    "# Creating a list\n",
    "# Definition of countries and capital\n",
    "countries = ['spain', 'france', 'germany', 'norway']\n",
    "capitals = ['madrid', 'paris', 'berlin', 'oslo']\n",
    "\n",
    "# Finding size of a list\n",
    "print(len(countries))\n",
    "\n",
    "# Get index of 'germany': ind_ger\n",
    "ind_ger = countries.index('germany')\n",
    "\n",
    "# Use ind_ger to print out capital of Germany\n",
    "print(capitals[ind_ger])"
   ]
  },
  {
   "cell_type": "code",
   "execution_count": null,
   "id": "permanent-service",
   "metadata": {},
   "outputs": [],
   "source": []
  },
  {
   "cell_type": "markdown",
   "id": "intended-lemon",
   "metadata": {},
   "source": [
    "### Arrays"
   ]
  },
  {
   "cell_type": "code",
   "execution_count": null,
   "id": "automatic-psychology",
   "metadata": {},
   "outputs": [],
   "source": [
    "# Creating arrays from lists\n",
    "a = [1, 2, 3, 4]\n",
    "np_a = np.array(a)\n",
    "\n",
    "# Finding size of array\n",
    "np_a.shape"
   ]
  },
  {
   "cell_type": "markdown",
   "id": "biological-standing",
   "metadata": {},
   "source": [
    "### Dictionaries"
   ]
  },
  {
   "cell_type": "code",
   "execution_count": 4,
   "id": "random-madonna",
   "metadata": {},
   "outputs": [
    {
     "name": "stdout",
     "output_type": "stream",
     "text": [
      "{'spain': 'madrid', 'france': 'paris', 'germany': 'berlin', 'norway': 'oslo'}\n"
     ]
    }
   ],
   "source": [
    "# Definition of countries and capital\n",
    "countries = ['spain', 'france', 'germany', 'norway']\n",
    "capitals = ['madrid', 'paris', 'berlin', 'oslo']\n",
    "\n",
    "# From string in countries and capitals, create dictionary europe\n",
    "europe = { 'spain':'madrid', 'france':'paris', 'germany':'berlin', 'norway':'oslo' }\n",
    "\n",
    "# Print europe\n",
    "print(europe)"
   ]
  },
  {
   "cell_type": "code",
   "execution_count": 12,
   "id": "driven-geology",
   "metadata": {},
   "outputs": [
    {
     "name": "stdout",
     "output_type": "stream",
     "text": [
      "dict_keys(['spain', 'france', 'germany', 'norway', 'italy', 'poland'])\n",
      "dict_values(['madrid', 'paris', 'berlin', 'oslo', 'rome', 'warsaw'])\n"
     ]
    }
   ],
   "source": [
    "# Print out the keys in europe\n",
    "print(europe.keys())\n",
    "print(europe.values())"
   ]
  },
  {
   "cell_type": "markdown",
   "id": "genetic-compatibility",
   "metadata": {},
   "source": [
    "#### Adding, changing and removing elements"
   ]
  },
  {
   "cell_type": "code",
   "execution_count": 10,
   "id": "transparent-pennsylvania",
   "metadata": {},
   "outputs": [
    {
     "name": "stdout",
     "output_type": "stream",
     "text": [
      "True\n",
      "{'spain': 'madrid', 'france': 'paris', 'germany': 'berlin', 'norway': 'oslo', 'italy': 'rome', 'poland': 'warsaw'}\n"
     ]
    }
   ],
   "source": [
    "# Add italy to europe\n",
    "europe['italy'] = 'rome'\n",
    "\n",
    "# Print out italy in europe\n",
    "print('italy' in europe)\n",
    "\n",
    "# Add poland to europe\n",
    "europe['poland'] = 'warsaw'\n",
    "\n",
    "# Print europe\n",
    "print(europe)"
   ]
  },
  {
   "cell_type": "code",
   "execution_count": null,
   "id": "interstate-pickup",
   "metadata": {},
   "outputs": [],
   "source": [
    "# Definition of dictionary\n",
    "europe = {'spain':'madrid', 'france':'paris', 'germany':'bonn',\n",
    "          'norway':'oslo', 'italy':'rome', 'poland':'warsaw',\n",
    "          'australia':'vienna' }\n",
    "\n",
    "# Update capital of germany\n",
    "europe['germany'] = 'berlin'\n",
    "\n",
    "# Remove australia\n",
    "del(europe['australia'])\n",
    "\n",
    "# Print europe\n",
    "print(europe)"
   ]
  },
  {
   "cell_type": "markdown",
   "id": "combined-spirit",
   "metadata": {},
   "source": [
    "#### Dictionary of dictionaries"
   ]
  },
  {
   "cell_type": "code",
   "execution_count": 13,
   "id": "appointed-taxation",
   "metadata": {},
   "outputs": [
    {
     "name": "stdout",
     "output_type": "stream",
     "text": [
      "paris\n",
      "{'spain': {'capital': 'madrid', 'population': 46.77}, 'france': {'capital': 'paris', 'population': 66.03}, 'germany': {'capital': 'berlin', 'population': 80.62}, 'norway': {'capital': 'oslo', 'population': 5.084}, 'italy': {'capital': 'rome', 'population': 59.83}}\n"
     ]
    }
   ],
   "source": [
    "# Dictionary of dictionaries\n",
    "europe = { 'spain': { 'capital':'madrid', 'population':46.77 },\n",
    "           'france': { 'capital':'paris', 'population':66.03 },\n",
    "           'germany': { 'capital':'berlin', 'population':80.62 },\n",
    "           'norway': { 'capital':'oslo', 'population':5.084 } }\n",
    "\n",
    "\n",
    "# Print out the capital of France\n",
    "print(europe['france']['capital'])\n",
    "\n",
    "# Create sub-dictionary data\n",
    "data = {'capital':'rome', 'population':59.83}\n",
    "\n",
    "# Add data to europe under key 'italy'\n",
    "europe['italy'] = data\n",
    "\n",
    "# Print europe\n",
    "print(europe)"
   ]
  },
  {
   "cell_type": "code",
   "execution_count": null,
   "id": "simplified-adaptation",
   "metadata": {},
   "outputs": [],
   "source": []
  }
 ],
 "metadata": {
  "kernelspec": {
   "display_name": "Python 3",
   "language": "python",
   "name": "python3"
  },
  "language_info": {
   "codemirror_mode": {
    "name": "ipython",
    "version": 3
   },
   "file_extension": ".py",
   "mimetype": "text/x-python",
   "name": "python",
   "nbconvert_exporter": "python",
   "pygments_lexer": "ipython3",
   "version": "3.9.1"
  }
 },
 "nbformat": 4,
 "nbformat_minor": 5
}
