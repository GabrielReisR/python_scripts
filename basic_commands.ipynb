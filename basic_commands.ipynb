{
 "cells": [
  {
   "cell_type": "markdown",
   "id": "bibliographic-department",
   "metadata": {},
   "source": [
    "### Importing basic libraries"
   ]
  },
  {
   "cell_type": "code",
   "execution_count": 3,
   "id": "creative-alexander",
   "metadata": {},
   "outputs": [],
   "source": [
    "import math\n",
    "import numpy as np"
   ]
  },
  {
   "cell_type": "markdown",
   "id": "disabled-enough",
   "metadata": {},
   "source": [
    "### Creating variables"
   ]
  },
  {
   "cell_type": "code",
   "execution_count": 1,
   "id": "expressed-prayer",
   "metadata": {},
   "outputs": [],
   "source": [
    "a = 5\n",
    "b = 'python'\n",
    "c = 1.1\n",
    "d = True"
   ]
  },
  {
   "cell_type": "markdown",
   "id": "infinite-network",
   "metadata": {},
   "source": [
    "### Printing variables"
   ]
  },
  {
   "cell_type": "code",
   "execution_count": 2,
   "id": "blank-minute",
   "metadata": {},
   "outputs": [
    {
     "name": "stdout",
     "output_type": "stream",
     "text": [
      "5\n",
      "python\n",
      "1.1\n",
      "True\n"
     ]
    }
   ],
   "source": [
    "print(a)\n",
    "print(b)\n",
    "print(c)\n",
    "print(d)"
   ]
  },
  {
   "cell_type": "markdown",
   "id": "orange-colombia",
   "metadata": {},
   "source": [
    "### Basic mathematical operations"
   ]
  },
  {
   "cell_type": "code",
   "execution_count": 4,
   "id": "prompt-lodging",
   "metadata": {},
   "outputs": [
    {
     "name": "stdout",
     "output_type": "stream",
     "text": [
      "25\n",
      "6.1\n",
      "-3.9\n",
      "0.5999999999999996\n"
     ]
    }
   ],
   "source": [
    "multiplying = a * a\n",
    "print(multiplying)\n",
    "\n",
    "adding = a + c\n",
    "print(adding)\n",
    "\n",
    "difference = c - a\n",
    "print(difference)\n",
    "\n",
    "modulo = a % c # modulo prints the remainder of the division by two numbers\n",
    "print(modulo)"
   ]
  },
  {
   "cell_type": "markdown",
   "id": "surface-debut",
   "metadata": {},
   "source": [
    "### Checking type of variable"
   ]
  },
  {
   "cell_type": "code",
   "execution_count": 9,
   "id": "electric-purse",
   "metadata": {},
   "outputs": [
    {
     "name": "stdout",
     "output_type": "stream",
     "text": [
      "<class 'int'>\n",
      "<class 'str'>\n",
      "<class 'float'>\n",
      "<class 'bool'>\n"
     ]
    }
   ],
   "source": [
    "print(type(a))\n",
    "print(type(b))\n",
    "print(type(c))\n",
    "print(type(d))"
   ]
  },
  {
   "cell_type": "markdown",
   "id": "stable-swing",
   "metadata": {},
   "source": [
    "### Adding two strings"
   ]
  },
  {
   "cell_type": "code",
   "execution_count": 6,
   "id": "black-corporation",
   "metadata": {},
   "outputs": [
    {
     "name": "stdout",
     "output_type": "stream",
     "text": [
      "pythonpython\n"
     ]
    }
   ],
   "source": [
    "print(b + b)"
   ]
  },
  {
   "cell_type": "markdown",
   "id": "driven-banking",
   "metadata": {},
   "source": [
    "### Adding strings and int and floats"
   ]
  },
  {
   "cell_type": "code",
   "execution_count": 12,
   "id": "million-equality",
   "metadata": {},
   "outputs": [
    {
     "name": "stdout",
     "output_type": "stream",
     "text": [
      "This is a basic operation: python allows us to add the integer 5 and the float variable 1.1\n"
     ]
    }
   ],
   "source": [
    "print('This is a basic operation: ' + b + ' allows us to add the integer ' + str(a) + ' and the float variable ' + str(c))"
   ]
  },
  {
   "cell_type": "markdown",
   "id": "front-carbon",
   "metadata": {},
   "source": [
    "### Turning text to integer or float"
   ]
  },
  {
   "cell_type": "code",
   "execution_count": 13,
   "id": "informed-amber",
   "metadata": {},
   "outputs": [
    {
     "name": "stdout",
     "output_type": "stream",
     "text": [
      "1.1\n"
     ]
    }
   ],
   "source": [
    "text = '1.1'\n",
    "float_from_text = float(text)\n",
    "print(float_from_text)"
   ]
  },
  {
   "cell_type": "code",
   "execution_count": 14,
   "id": "unsigned-provincial",
   "metadata": {},
   "outputs": [
    {
     "name": "stdout",
     "output_type": "stream",
     "text": [
      "5\n"
     ]
    }
   ],
   "source": [
    "text = '5'\n",
    "int_from_text = int(text)\n",
    "print(int_from_text)"
   ]
  },
  {
   "cell_type": "markdown",
   "id": "continued-mailing",
   "metadata": {},
   "source": [
    "### Lists"
   ]
  },
  {
   "cell_type": "code",
   "execution_count": 6,
   "id": "crucial-celebrity",
   "metadata": {},
   "outputs": [
    {
     "name": "stdout",
     "output_type": "stream",
     "text": [
      "4\n",
      "berlin\n"
     ]
    }
   ],
   "source": [
    "# Creating a list\n",
    "# Definition of countries and capital\n",
    "countries = ['spain', 'france', 'germany', 'norway']\n",
    "capitals = ['madrid', 'paris', 'berlin', 'oslo']\n",
    "\n",
    "# Finding size of a list\n",
    "print(len(countries))\n",
    "\n",
    "# Get index of 'germany': ind_ger\n",
    "ind_ger = countries.index('germany')\n",
    "\n",
    "# Use ind_ger to print out capital of Germany\n",
    "print(capitals[ind_ger])"
   ]
  },
  {
   "cell_type": "code",
   "execution_count": 5,
   "id": "permanent-service",
   "metadata": {},
   "outputs": [
    {
     "name": "stdout",
     "output_type": "stream",
     "text": [
      "[1, 2, 3, 4, 5, 6, 7, 8, 9, 10, 11, 12, 13, 14, 15, 16, 17, 18, 19, 20, 21, 22, 23, 24, 25, 26, 27, 28, 29, 30, 31, 32, 33, 34, 35, 36, 37, 38, 39, 40, 41, 42, 43, 44, 45, 46, 47, 48, 49]\n",
      "[1, 3, 5, 7, 9, 11, 13, 15, 17, 19, 21, 23, 25, 27, 29, 31, 33, 35, 37, 39, 41, 43, 45, 47, 49]\n",
      "[50, 48, 46, 44, 42, 40, 38, 36, 34, 32, 30, 28, 26, 24, 22, 20, 18, 16, 14, 12, 10, 8, 6, 4, 2]\n"
     ]
    }
   ],
   "source": [
    "# Creating a list with an interval\n",
    "interval_list_1 = list(range(1,50))\n",
    "\n",
    "print(interval_list_1)\n",
    "\n",
    "# Creating a list with an interval\n",
    "interval_list_2 = list(range(1,50, 2))\n",
    "\n",
    "print(interval_list_2)\n",
    "\n",
    "# Creating a list with an interval\n",
    "interval_list_2 = list(range(50, 1, -2))\n",
    "\n",
    "print(interval_list_2)"
   ]
  },
  {
   "cell_type": "markdown",
   "id": "intended-lemon",
   "metadata": {},
   "source": [
    "### Arrays"
   ]
  },
  {
   "cell_type": "code",
   "execution_count": null,
   "id": "automatic-psychology",
   "metadata": {},
   "outputs": [],
   "source": [
    "# Creating arrays from lists\n",
    "a = [1, 2, 3, 4]\n",
    "np_a = np.array(a)\n",
    "\n",
    "# Finding size of array\n",
    "np_a.shape"
   ]
  },
  {
   "cell_type": "markdown",
   "id": "biological-standing",
   "metadata": {},
   "source": [
    "### Dictionaries"
   ]
  },
  {
   "cell_type": "code",
   "execution_count": 4,
   "id": "random-madonna",
   "metadata": {},
   "outputs": [
    {
     "name": "stdout",
     "output_type": "stream",
     "text": [
      "{'spain': 'madrid', 'france': 'paris', 'germany': 'berlin', 'norway': 'oslo'}\n"
     ]
    }
   ],
   "source": [
    "# Definition of countries and capital\n",
    "countries = ['spain', 'france', 'germany', 'norway']\n",
    "capitals = ['madrid', 'paris', 'berlin', 'oslo']\n",
    "\n",
    "# From string in countries and capitals, create dictionary europe\n",
    "europe = { 'spain':'madrid', 'france':'paris', 'germany':'berlin', 'norway':'oslo' }\n",
    "\n",
    "# Print europe\n",
    "print(europe)"
   ]
  },
  {
   "cell_type": "code",
   "execution_count": 12,
   "id": "driven-geology",
   "metadata": {},
   "outputs": [
    {
     "name": "stdout",
     "output_type": "stream",
     "text": [
      "dict_keys(['spain', 'france', 'germany', 'norway', 'italy', 'poland'])\n",
      "dict_values(['madrid', 'paris', 'berlin', 'oslo', 'rome', 'warsaw'])\n"
     ]
    }
   ],
   "source": [
    "# Print out the keys in europe\n",
    "print(europe.keys())\n",
    "print(europe.values())"
   ]
  },
  {
   "cell_type": "markdown",
   "id": "genetic-compatibility",
   "metadata": {},
   "source": [
    "#### Adding, changing and removing elements"
   ]
  },
  {
   "cell_type": "code",
   "execution_count": 10,
   "id": "transparent-pennsylvania",
   "metadata": {},
   "outputs": [
    {
     "name": "stdout",
     "output_type": "stream",
     "text": [
      "True\n",
      "{'spain': 'madrid', 'france': 'paris', 'germany': 'berlin', 'norway': 'oslo', 'italy': 'rome', 'poland': 'warsaw'}\n"
     ]
    }
   ],
   "source": [
    "# Add italy to europe\n",
    "europe['italy'] = 'rome'\n",
    "\n",
    "# Print out italy in europe\n",
    "print('italy' in europe)\n",
    "\n",
    "# Add poland to europe\n",
    "europe['poland'] = 'warsaw'\n",
    "\n",
    "# Print europe\n",
    "print(europe)"
   ]
  },
  {
   "cell_type": "code",
   "execution_count": null,
   "id": "interstate-pickup",
   "metadata": {},
   "outputs": [],
   "source": [
    "# Definition of dictionary\n",
    "europe = {'spain':'madrid', 'france':'paris', 'germany':'bonn',\n",
    "          'norway':'oslo', 'italy':'rome', 'poland':'warsaw',\n",
    "          'australia':'vienna' }\n",
    "\n",
    "# Update capital of germany\n",
    "europe['germany'] = 'berlin'\n",
    "\n",
    "# Remove australia\n",
    "del(europe['australia'])\n",
    "\n",
    "# Print europe\n",
    "print(europe)"
   ]
  },
  {
   "cell_type": "markdown",
   "id": "combined-spirit",
   "metadata": {},
   "source": [
    "#### Dictionary of dictionaries"
   ]
  },
  {
   "cell_type": "code",
   "execution_count": 13,
   "id": "appointed-taxation",
   "metadata": {},
   "outputs": [
    {
     "name": "stdout",
     "output_type": "stream",
     "text": [
      "paris\n",
      "{'spain': {'capital': 'madrid', 'population': 46.77}, 'france': {'capital': 'paris', 'population': 66.03}, 'germany': {'capital': 'berlin', 'population': 80.62}, 'norway': {'capital': 'oslo', 'population': 5.084}, 'italy': {'capital': 'rome', 'population': 59.83}}\n"
     ]
    }
   ],
   "source": [
    "# Dictionary of dictionaries\n",
    "europe = { 'spain': { 'capital':'madrid', 'population':46.77 },\n",
    "           'france': { 'capital':'paris', 'population':66.03 },\n",
    "           'germany': { 'capital':'berlin', 'population':80.62 },\n",
    "           'norway': { 'capital':'oslo', 'population':5.084 } }\n",
    "\n",
    "\n",
    "# Print out the capital of France\n",
    "print(europe['france']['capital'])\n",
    "\n",
    "# Create sub-dictionary data\n",
    "data = {'capital':'rome', 'population':59.83}\n",
    "\n",
    "# Add data to europe under key 'italy'\n",
    "europe['italy'] = data\n",
    "\n",
    "# Print europe\n",
    "print(europe)"
   ]
  },
  {
   "cell_type": "markdown",
   "id": "wanted-haiti",
   "metadata": {},
   "source": [
    "### Comparison and boolean operators"
   ]
  },
  {
   "cell_type": "code",
   "execution_count": 4,
   "id": "infinite-rapid",
   "metadata": {},
   "outputs": [
    {
     "name": "stdout",
     "output_type": "stream",
     "text": [
      "False\n",
      "True\n",
      "True\n",
      "False\n",
      "False\n",
      "True\n",
      "True\n"
     ]
    }
   ],
   "source": [
    "# Comparison of booleans\n",
    "print(True == False)\n",
    "print(True > False)\n",
    "\n",
    "# Comparison of integers\n",
    "print(-5 * 15 != 75)\n",
    "x = -3 * 6\n",
    "print(x >= -10)\n",
    "\n",
    "# Comparison of strings\n",
    "print(\"pyscript\" == \"PyScript\")\n",
    "y = \"test\"\n",
    "print(\"test\" <= y)\n",
    "\n",
    "# Compare a boolean with an integer\n",
    "print(True == 1)"
   ]
  },
  {
   "cell_type": "code",
   "execution_count": 6,
   "id": "arranged-approach",
   "metadata": {},
   "outputs": [
    {
     "name": "stdout",
     "output_type": "stream",
     "text": [
      "False\n",
      "True\n",
      "True\n"
     ]
    }
   ],
   "source": [
    "# Define variables\n",
    "my_kitchen = 18.0\n",
    "your_kitchen = 14.0\n",
    "\n",
    "# my_kitchen bigger than 10 and smaller than 18?\n",
    "print(my_kitchen > 10 and my_kitchen < 18)\n",
    "\n",
    "# my_kitchen smaller than 14 or bigger than 17?\n",
    "print(my_kitchen < 14 or my_kitchen > 17)\n",
    "\n",
    "# Double my_kitchen smaller than triple your_kitchen?\n",
    "print(my_kitchen * 2 < your_kitchen * 3)"
   ]
  },
  {
   "cell_type": "markdown",
   "id": "persistent-diagram",
   "metadata": {},
   "source": [
    "#### Comparing arrays"
   ]
  },
  {
   "cell_type": "code",
   "execution_count": 7,
   "id": "separate-accent",
   "metadata": {},
   "outputs": [
    {
     "name": "stdout",
     "output_type": "stream",
     "text": [
      "[ True  True False False]\n",
      "[False  True  True False]\n",
      "[False  True False  True]\n",
      "[False False False  True]\n"
     ]
    }
   ],
   "source": [
    "# Create arrays\n",
    "import numpy as np\n",
    "my_house = np.array([18.0, 20.0, 10.75, 9.50])\n",
    "your_house = np.array([14.0, 24.0, 14.25, 9.0])\n",
    "\n",
    "# my_house greater than or equal to 18\n",
    "print(my_house >= 18)\n",
    "\n",
    "# my_house less than your_house\n",
    "print(my_house < your_house)\n",
    "\n",
    "# my_house greater than 18.5 or smaller than 10\n",
    "print(np.logical_or(my_house > 18.5, my_house < 10))\n",
    "\n",
    "# Both my_house and your_house smaller than 11\n",
    "print(np.logical_and(my_house < 11, your_house < 11))"
   ]
  },
  {
   "cell_type": "code",
   "execution_count": null,
   "id": "vertical-particular",
   "metadata": {},
   "outputs": [],
   "source": []
  }
 ],
 "metadata": {
  "kernelspec": {
   "display_name": "Python 3",
   "language": "python",
   "name": "python3"
  },
  "language_info": {
   "codemirror_mode": {
    "name": "ipython",
    "version": 3
   },
   "file_extension": ".py",
   "mimetype": "text/x-python",
   "name": "python",
   "nbconvert_exporter": "python",
   "pygments_lexer": "ipython3",
   "version": "3.9.1"
  }
 },
 "nbformat": 4,
 "nbformat_minor": 5
}
