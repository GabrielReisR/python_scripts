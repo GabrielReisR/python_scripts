{
 "cells": [
  {
   "cell_type": "markdown",
   "metadata": {},
   "source": [
    "## Lendo bibliotecas"
   ]
  },
  {
   "cell_type": "code",
   "execution_count": 1,
   "metadata": {},
   "outputs": [],
   "source": [
    "import math\n",
    "import numpy as np\n",
    "import pandas as pd\n",
    "%config Completer.use_jedi = False # this speeds up autocomplete"
   ]
  },
  {
   "cell_type": "markdown",
   "metadata": {},
   "source": [
    "## Entendendo o problema"
   ]
  },
  {
   "cell_type": "code",
   "execution_count": 9,
   "metadata": {},
   "outputs": [
    {
     "data": {
      "text/html": [
       "<div>\n",
       "<style scoped>\n",
       "    .dataframe tbody tr th:only-of-type {\n",
       "        vertical-align: middle;\n",
       "    }\n",
       "\n",
       "    .dataframe tbody tr th {\n",
       "        vertical-align: top;\n",
       "    }\n",
       "\n",
       "    .dataframe thead th {\n",
       "        text-align: right;\n",
       "    }\n",
       "</style>\n",
       "<table border=\"1\" class=\"dataframe\">\n",
       "  <thead>\n",
       "    <tr style=\"text-align: right;\">\n",
       "      <th></th>\n",
       "      <th>load_capacity</th>\n",
       "      <th>repeatability</th>\n",
       "      <th>maximum tip speed</th>\n",
       "      <th>memory capacity</th>\n",
       "      <th>manipulator reach</th>\n",
       "    </tr>\n",
       "  </thead>\n",
       "  <tbody>\n",
       "    <tr>\n",
       "      <th>asea_irb</th>\n",
       "      <td>60.00</td>\n",
       "      <td>0.40</td>\n",
       "      <td>2540.0</td>\n",
       "      <td>500</td>\n",
       "      <td>990</td>\n",
       "    </tr>\n",
       "    <tr>\n",
       "      <th>cincinatti</th>\n",
       "      <td>6.35</td>\n",
       "      <td>0.15</td>\n",
       "      <td>1016.0</td>\n",
       "      <td>3000</td>\n",
       "      <td>1041</td>\n",
       "    </tr>\n",
       "    <tr>\n",
       "      <th>cybotech</th>\n",
       "      <td>6.80</td>\n",
       "      <td>0.10</td>\n",
       "      <td>1727.2</td>\n",
       "      <td>1500</td>\n",
       "      <td>1676</td>\n",
       "    </tr>\n",
       "    <tr>\n",
       "      <th>hitachi</th>\n",
       "      <td>10.00</td>\n",
       "      <td>0.20</td>\n",
       "      <td>1000.0</td>\n",
       "      <td>2000</td>\n",
       "      <td>965</td>\n",
       "    </tr>\n",
       "    <tr>\n",
       "      <th>unimation</th>\n",
       "      <td>2.50</td>\n",
       "      <td>0.10</td>\n",
       "      <td>560.0</td>\n",
       "      <td>500</td>\n",
       "      <td>915</td>\n",
       "    </tr>\n",
       "    <tr>\n",
       "      <th>us_robots</th>\n",
       "      <td>4.50</td>\n",
       "      <td>0.08</td>\n",
       "      <td>1016.0</td>\n",
       "      <td>350</td>\n",
       "      <td>508</td>\n",
       "    </tr>\n",
       "    <tr>\n",
       "      <th>yaskawa</th>\n",
       "      <td>3.00</td>\n",
       "      <td>0.10</td>\n",
       "      <td>177.0</td>\n",
       "      <td>1000</td>\n",
       "      <td>920</td>\n",
       "    </tr>\n",
       "  </tbody>\n",
       "</table>\n",
       "</div>"
      ],
      "text/plain": [
       "            load_capacity  repeatability  maximum tip speed  memory capacity  \\\n",
       "asea_irb            60.00           0.40             2540.0              500   \n",
       "cincinatti           6.35           0.15             1016.0             3000   \n",
       "cybotech             6.80           0.10             1727.2             1500   \n",
       "hitachi             10.00           0.20             1000.0             2000   \n",
       "unimation            2.50           0.10              560.0              500   \n",
       "us_robots            4.50           0.08             1016.0              350   \n",
       "yaskawa              3.00           0.10              177.0             1000   \n",
       "\n",
       "            manipulator reach  \n",
       "asea_irb                  990  \n",
       "cincinatti               1041  \n",
       "cybotech                 1676  \n",
       "hitachi                   965  \n",
       "unimation                 915  \n",
       "us_robots                 508  \n",
       "yaskawa                   920  "
      ]
     },
     "execution_count": 9,
     "metadata": {},
     "output_type": "execute_result"
    }
   ],
   "source": [
    "# Criando nome dos robôs\n",
    "nome_robos = ['asea_irb', 'cincinatti', 'cybotech',\n",
    "             'hitachi', 'unimation', 'us_robots', 'yaskawa']\n",
    "# Criando matriz com valores dos robôs\n",
    "matriz = [\n",
    "    [60, 0.40, 2540, 500, 990],\n",
    "    [6.35, 0.15, 1016, 3000, 1041],\n",
    "    [6.8, 0.10, 1727.2, 1500, 1676],\n",
    "    [10, 0.20, 1000, 2000, 965],\n",
    "    [2.5, 0.10, 560, 500, 915],\n",
    "    [4.5, 0.08, 1016, 350, 508],\n",
    "    [3, 0.10, 177, 1000, 920]\n",
    "]\n",
    "\n",
    "# Criando nome das colunas\n",
    "nome_colunas = ['load_capacity', 'repeatability',\n",
    "                'maximum tip speed', 'memory capacity', 'manipulator reach'\n",
    "               ]\n",
    "\n",
    "# Transformando matriz em dataframe\n",
    "df = pd.DataFrame(matriz, columns = nome_colunas, index = nome_robos)\n",
    "df"
   ]
  },
  {
   "cell_type": "code",
   "execution_count": 10,
   "metadata": {},
   "outputs": [
    {
     "data": {
      "text/plain": [
       "array([[6.0000e+01, 6.3500e+00, 6.8000e+00, 1.0000e+01, 2.5000e+00,\n",
       "        4.5000e+00, 3.0000e+00],\n",
       "       [4.0000e-01, 1.5000e-01, 1.0000e-01, 2.0000e-01, 1.0000e-01,\n",
       "        8.0000e-02, 1.0000e-01],\n",
       "       [2.5400e+03, 1.0160e+03, 1.7272e+03, 1.0000e+03, 5.6000e+02,\n",
       "        1.0160e+03, 1.7700e+02],\n",
       "       [5.0000e+02, 3.0000e+03, 1.5000e+03, 2.0000e+03, 5.0000e+02,\n",
       "        3.5000e+02, 1.0000e+03],\n",
       "       [9.9000e+02, 1.0410e+03, 1.6760e+03, 9.6500e+02, 9.1500e+02,\n",
       "        5.0800e+02, 9.2000e+02]])"
      ]
     },
     "execution_count": 10,
     "metadata": {},
     "output_type": "execute_result"
    }
   ],
   "source": [
    "matriz = np.array(matriz).T\n",
    "matriz"
   ]
  },
  {
   "cell_type": "code",
   "execution_count": 11,
   "metadata": {},
   "outputs": [],
   "source": [
    "# Criando matriz de pesos\n",
    "pesos = [0.036, 0.192, 0.326, 0.326, 0.120]"
   ]
  },
  {
   "cell_type": "code",
   "execution_count": null,
   "metadata": {},
   "outputs": [],
   "source": [
    "'''\n",
    "Fórmula Normalização - Parte 1:\n",
    "i = 0\n",
    "j = 0\n",
    "m[i][j] / math.sqrt(\n",
    "    sum(\n",
    "        [math.pow(m[i][j], 2), math.pow(m[i+1][j], 2), math.pow(m[i+2][j], 2), math.pow(m[i+3][j], 2),\n",
    "         math.pow(m[i+4][j], 2), math.pow(m[i+5][j], 2), math.pow(m[i+6][j], 2)])\n",
    ")\n",
    "\n",
    "Dessa vez, nós estamos começando com i = 0 e aumentando em 1 o j.\n",
    "O problema é o denominador.\n",
    "Se nós tivéssemos uma só linha com todos os valores da linha naquela coluna, bastaria elevar essa linha ao quadrado.\n",
    "\n",
    "Fórmula Normalização - Parte 2:\n",
    "\n",
    "i = 0\n",
    "j = 0\n",
    "caso = m[i][j]\n",
    "denominador = math.sqrt(sum(math.pow(m[i], 2)))\n",
    "normalizado = caso / denominador\n",
    "\n",
    "Assim, se a linha for o nosso objeto de interesse, avançamos para o segundo caso andando com j+1.\n",
    "Em relação a pesos, a coluna deverá ser indicada com o mesmo índice da linha usado acima.\n",
    "Ficaria:\n",
    "peso[i]\n",
    "\n",
    "Assim, o caso 3 da primeira linha, que é da primeira coluna, terá index peso[i], indicando ser da primeira coluna.\n",
    "'''"
   ]
  },
  {
   "cell_type": "markdown",
   "metadata": {},
   "source": [
    "### Criando Tabela 4: Normalized Matrix"
   ]
  },
  {
   "cell_type": "code",
   "execution_count": 12,
   "metadata": {},
   "outputs": [],
   "source": [
    "# Inicializando matrizes\n",
    "norm_matrix = []\n",
    "\n",
    "# Criando função\n",
    "for i in range(0, np.shape(matriz)[0]):\n",
    "    for j in range(0, np.shape(matriz)[1]):\n",
    "\n",
    "        caso = matriz[i][j]\n",
    "        denominador = math.sqrt(sum(np.power(matriz[i], 2)))\n",
    "        normalizado = caso / denominador\n",
    "    \n",
    "        norm_matrix.append(normalizado)\n",
    "        \n",
    "        j += 1\n",
    "        \n",
    "# Organizando matriz\n",
    "norm_matrix = np.array(norm_matrix)\n",
    "norm_matrix = np.reshape(norm_matrix, (5, 7)).T\n",
    "norm_matrix = norm_matrix.round(4)"
   ]
  },
  {
   "cell_type": "code",
   "execution_count": 13,
   "metadata": {},
   "outputs": [
    {
     "name": "stdout",
     "output_type": "stream",
     "text": [
      "[[0.9705 0.7861 0.7087 0.1217 0.3557]\n",
      " [0.1027 0.2948 0.2835 0.7304 0.374 ]\n",
      " [0.11   0.1965 0.4819 0.3652 0.6022]\n",
      " [0.1618 0.3931 0.279  0.4869 0.3467]\n",
      " [0.0404 0.1965 0.1563 0.1217 0.3288]\n",
      " [0.0728 0.1572 0.2835 0.0852 0.1825]\n",
      " [0.0485 0.1965 0.0494 0.2435 0.3306]]\n"
     ]
    }
   ],
   "source": [
    "# Print da matriz\n",
    "print(norm_matrix)"
   ]
  },
  {
   "cell_type": "markdown",
   "metadata": {},
   "source": [
    "### Criando Tabela 5: Weighted Normalized Matrix"
   ]
  },
  {
   "cell_type": "code",
   "execution_count": 7,
   "metadata": {},
   "outputs": [
    {
     "name": "stdout",
     "output_type": "stream",
     "text": [
      "[[0.034938  0.1509312 0.2310362 0.0396742 0.042684 ]\n",
      " [0.0036972 0.0566016 0.092421  0.2381104 0.04488  ]\n",
      " [0.00396   0.037728  0.1570994 0.1190552 0.072264 ]\n",
      " [0.0058248 0.0754752 0.090954  0.1587294 0.041604 ]\n",
      " [0.0014544 0.037728  0.0509538 0.0396742 0.039456 ]\n",
      " [0.0026208 0.0301824 0.092421  0.0277752 0.0219   ]\n",
      " [0.001746  0.037728  0.0161044 0.079381  0.039672 ]]\n"
     ]
    }
   ],
   "source": [
    "weighted_matrix = norm_matrix * pesos\n",
    "\n",
    "print(weighted_matrix)"
   ]
  },
  {
   "cell_type": "markdown",
   "metadata": {},
   "source": [
    "### Criando Tabela 6: Concordance Matrix"
   ]
  },
  {
   "cell_type": "code",
   "execution_count": null,
   "metadata": {},
   "outputs": [],
   "source": [
    "'''\n",
    "[[60,    0.4,   2540,  500,  990],\n",
    " [6.35, 0.15,   1016, 3000, 1041],\n",
    " [6.8,   0.1, 1727.2, 1500, 1676],\n",
    " [10,    0.2,   1000, 2000,  965],\n",
    " [2.5,   0.1,    560,  500,  915],\n",
    " [4.5,  0.08,   1016,  350,  508],\n",
    " [3,     0.1,    177, 1000,  920]]\n",
    "\n",
    "Começamos pegando o primeiro elemento da matriz e comparando com o primeiro.\n",
    "O resultado deve ser igual a \"1\", que logo será substituído por outro valor.\n",
    "\n",
    "Ou seja:\n",
    "caso = matriz[i][j]\n",
    "caso_comp = matriz_duplic[i][k]\n",
    "\n",
    "Se:\n",
    "j == k? SIM. -> 1\n",
    "\n",
    "A partir daqui, aumentamos o número de k em 1 APENAS para a matriz_duplic.\n",
    "k += 1\n",
    "i permanece o mesmo (0). j permance o mesmo (0).\n",
    "\n",
    "Se\n",
    "j == k? NÃO:\n",
    "\n",
    "caso >= caso_comp? SIM.\n",
    "\n",
    "A condição SIM vai abrir lugar para a gente começar a soma de valores.\n",
    "Se sim, pesos[k] deve ser adicionado a uma lista temporária.\n",
    "\n",
    "temp.append(pesos[i])\n",
    "\n",
    "Por que 'i'? Porque 'i' irá nos indicar em qual coluna de 'pesos' estamos.\n",
    "Agora, andamos uma casa para a direita em cada linha.\n",
    "\n",
    "Assim,\n",
    "i += 1\n",
    "k = 1\n",
    "j = 0\n",
    "\n",
    "Novamente, se testa se matriz[i][j] == matriz[i][k]\n",
    "Nessa primeira situação, se o valor de caso == caso_comp.\n",
    "\n",
    "caso >= caso_comp? SIM.\n",
    "\n",
    "Assim,\n",
    "\n",
    "temp.append(pesos[i]) é novamente acionado.\n",
    "\n",
    "Continuando,\n",
    "j += 1\n",
    "k = 1\n",
    "i = 0\n",
    "\n",
    "Novamente, testa-se:\n",
    "caso >= caso_comp? SIM.\n",
    "\n",
    "Se sim,\n",
    "\n",
    "temp.append(pesos[j])\n",
    "\n",
    "Isso acontece até que j == np.append(matriz)[1]\n",
    "...\n",
    "O mesmo acontece até que k =\n",
    "\n",
    "'''"
   ]
  },
  {
   "cell_type": "code",
   "execution_count": 21,
   "metadata": {},
   "outputs": [
    {
     "name": "stdout",
     "output_type": "stream",
     "text": [
      "60.0 60.0\n"
     ]
    }
   ],
   "source": [
    "# Comparação 0, quando j == k, resultando em '-'\n",
    "i = 0\n",
    "j = 0\n",
    "k = 0 \n",
    "\n",
    "caso = matriz[i][j]\n",
    "caso_comp = matriz[i][k]\n",
    "print(caso, caso_comp)"
   ]
  },
  {
   "cell_type": "code",
   "execution_count": 17,
   "metadata": {},
   "outputs": [
    {
     "name": "stdout",
     "output_type": "stream",
     "text": [
      "60.0 6.35\n"
     ]
    }
   ],
   "source": [
    "# Primeira comparação real, resultando em pesos[i]\n",
    "i = 0\n",
    "j = 0\n",
    "k = 1 # k += 1\n",
    "\n",
    "caso = matriz[i][j]\n",
    "caso_comp = matriz[i][k]\n",
    "print(caso, caso_comp)"
   ]
  },
  {
   "cell_type": "code",
   "execution_count": 19,
   "metadata": {},
   "outputs": [
    {
     "name": "stdout",
     "output_type": "stream",
     "text": [
      "0.4 0.15\n"
     ]
    }
   ],
   "source": [
    "# Segunda comparação real, resultando em pesos[i]\n",
    "i = 1 # i += 1\n",
    "j = 0 \n",
    "k = 1\n",
    "\n",
    "caso = matriz[i][j]\n",
    "caso_comp = matriz[i][k]\n",
    "print(caso, caso_comp)"
   ]
  },
  {
   "cell_type": "code",
   "execution_count": 27,
   "metadata": {},
   "outputs": [
    {
     "name": "stdout",
     "output_type": "stream",
     "text": [
      "2540.0 1016.0\n"
     ]
    }
   ],
   "source": [
    "# Terceira comparação real, resultando em pesos[i]\n",
    "i = 2 # i += 1\n",
    "j = 0 \n",
    "k = 1\n",
    "\n",
    "caso = matriz[i][j]\n",
    "caso_comp = matriz_dup[i][k]\n",
    "print(caso, caso_comp)"
   ]
  },
  {
   "cell_type": "code",
   "execution_count": 28,
   "metadata": {},
   "outputs": [
    {
     "name": "stdout",
     "output_type": "stream",
     "text": [
      "500.0 3000.0\n"
     ]
    }
   ],
   "source": [
    "# Quarta comparação real, resultando em pesos[i]\n",
    "i = 3 # i += 1\n",
    "j = 0 \n",
    "k = 1\n",
    "\n",
    "caso = matriz[i][j]\n",
    "caso_comp = matriz_dup[i][k]\n",
    "print(caso, caso_comp)"
   ]
  },
  {
   "cell_type": "code",
   "execution_count": 30,
   "metadata": {},
   "outputs": [
    {
     "name": "stdout",
     "output_type": "stream",
     "text": [
      "990.0 1041.0\n"
     ]
    }
   ],
   "source": [
    "# Quinta comparação real, resultando em pesos[i]\n",
    "i = 4 # i += 1\n",
    "j = 0 \n",
    "k = 1\n",
    "\n",
    "caso = matriz[i][j]\n",
    "caso_comp = matriz_dup[i][k]\n",
    "print(caso, caso_comp)"
   ]
  },
  {
   "cell_type": "code",
   "execution_count": 24,
   "metadata": {},
   "outputs": [
    {
     "name": "stdout",
     "output_type": "stream",
     "text": [
      "6.35 60.0\n"
     ]
    }
   ],
   "source": [
    "# Quinta comparação real, resultando em pesos[i]\n",
    "# Aqui, a gente vê que i == np.shape(matriz)[0]\n",
    "# Quando isso acontece, j += 1 e i volta a ser 0 e k volta a ser 0\n",
    "i = 0 # 0\n",
    "j = 1 # j += 1 \n",
    "k = 0 # 0\n",
    "\n",
    "caso = matriz[i][j]\n",
    "caso_comp = matriz[i][k]\n",
    "print(caso, caso_comp)"
   ]
  },
  {
   "cell_type": "code",
   "execution_count": 22,
   "metadata": {},
   "outputs": [
    {
     "data": {
      "text/plain": [
       "5"
      ]
     },
     "execution_count": 22,
     "metadata": {},
     "output_type": "execute_result"
    }
   ],
   "source": [
    "np.shape(matriz)[0]"
   ]
  },
  {
   "cell_type": "code",
   "execution_count": 110,
   "metadata": {},
   "outputs": [],
   "source": [
    "# Inicializando matrizes\n",
    "conc_matrix = []\n",
    "\n",
    "# Criando função\n",
    "for j in range(0, np.shape(weighted_matrix)[1]):\n",
    "    for k in range(0, np.shape(weighted_matrix)[1]):\n",
    "        values = []\n",
    "        \n",
    "        if k == j:\n",
    "            conc_matrix.append('-')\n",
    "            k += 1\n",
    "        \n",
    "        else:\n",
    "            for i in range(0, np.shape(weighted_matrix)[0]):\n",
    "               \n",
    "                caso = weighted_matrix[i][j]\n",
    "                caso_comp = weighted_matrix[i][k]\n",
    "            \n",
    "                if caso >= caso_comp:\n",
    "                    values.append(pesos[j])\n",
    "                \n",
    "                else:\n",
    "                    continue\n",
    "                \n",
    "                conc_matrix.append(sum(values))"
   ]
  },
  {
   "cell_type": "code",
   "execution_count": 111,
   "metadata": {},
   "outputs": [
    {
     "data": {
      "text/plain": [
       "['-',\n",
       " 0.192,\n",
       " 0.384,\n",
       " 0.5760000000000001,\n",
       " 0.768,\n",
       " 0.96,\n",
       " 1.152,\n",
       " 1.3439999999999999,\n",
       " '-',\n",
       " 0.192,\n",
       " 0.192,\n",
       " 0.384,\n",
       " 0.192,\n",
       " 0.384,\n",
       " 0.5760000000000001,\n",
       " 0.768,\n",
       " 0.326,\n",
       " 0.652,\n",
       " 0.978,\n",
       " 1.304,\n",
       " 1.6300000000000001,\n",
       " 1.9560000000000002,\n",
       " 2.282,\n",
       " 0.326,\n",
       " 0.652,\n",
       " 0.978,\n",
       " 1.304,\n",
       " 1.6300000000000001,\n",
       " 1.9560000000000002,\n",
       " '-',\n",
       " 0.326,\n",
       " 0.652,\n",
       " 0.978,\n",
       " 1.304,\n",
       " 0.326,\n",
       " 0.652,\n",
       " 0.978,\n",
       " 1.304,\n",
       " 1.6300000000000001,\n",
       " 1.9560000000000002,\n",
       " 0.326,\n",
       " 0.652,\n",
       " 0.978,\n",
       " 1.304,\n",
       " 1.6300000000000001,\n",
       " 1.9560000000000002,\n",
       " 2.282,\n",
       " 0.326,\n",
       " 0.652,\n",
       " 0.978,\n",
       " 1.304,\n",
       " 1.6300000000000001,\n",
       " 0.326,\n",
       " 0.652,\n",
       " 0.978,\n",
       " '-',\n",
       " 0.326,\n",
       " 0.652,\n",
       " 0.978,\n",
       " 1.304,\n",
       " 1.6300000000000001,\n",
       " 1.9560000000000002,\n",
       " 0.12,\n",
       " 0.24,\n",
       " 0.36,\n",
       " 0.48,\n",
       " 0.6,\n",
       " 0.72,\n",
       " 0.84,\n",
       " 0.12,\n",
       " 0.24,\n",
       " 0.36,\n",
       " 0.12,\n",
       " 0.12,\n",
       " '-']"
      ]
     },
     "execution_count": 111,
     "metadata": {},
     "output_type": "execute_result"
    }
   ],
   "source": [
    "conc_matrix"
   ]
  },
  {
   "cell_type": "code",
   "execution_count": 97,
   "metadata": {},
   "outputs": [],
   "source": [
    "# Inicializando matrizes\n",
    "conc_matrix = []\n",
    "\n",
    "# Criando função\n",
    "for j in range(0, np.shape(weighted_matrix)[1]):\n",
    "    values = []\n",
    "    \n",
    "    for i in range(0, np.shape(weighted_matrix)[0]):\n",
    "        if j == k:\n",
    "            conc_matrix.append(0)\n",
    "            k += 1\n",
    "        \n",
    "        else:\n",
    "            for k in range(i + 1, np.shape(weighted_matrix)[1]):\n",
    "                caso = weighted_matrix[i][j]\n",
    "                caso_comp = weighted_matrix[i][k]\n",
    "            \n",
    "                if caso >= caso_comp:\n",
    "                    values.append(pesos[i])\n",
    "                \n",
    "                else:\n",
    "                    continue\n",
    "                \n",
    "                conc_matrix.append(sum(values))"
   ]
  },
  {
   "cell_type": "code",
   "execution_count": 95,
   "metadata": {},
   "outputs": [
    {
     "data": {
      "text/plain": [
       "[0.036,\n",
       " 0.072,\n",
       " 0.10799999999999998,\n",
       " 0.3,\n",
       " 0.626,\n",
       " 0.036,\n",
       " 0.072,\n",
       " 0.10799999999999998,\n",
       " 0.144,\n",
       " 0.33599999999999997,\n",
       " 0.528,\n",
       " 0.8540000000000001,\n",
       " 1.1800000000000002,\n",
       " 1.5060000000000002,\n",
       " 0.036,\n",
       " 0.228,\n",
       " 0.42000000000000004,\n",
       " 0.6120000000000001,\n",
       " 0.9380000000000002,\n",
       " 1.2640000000000002,\n",
       " 1.5900000000000003,\n",
       " 0,\n",
       " 0.192,\n",
       " 0,\n",
       " 0.518,\n",
       " 0]"
      ]
     },
     "execution_count": 95,
     "metadata": {},
     "output_type": "execute_result"
    }
   ],
   "source": [
    "conc_matrix"
   ]
  },
  {
   "cell_type": "code",
   "execution_count": 60,
   "metadata": {},
   "outputs": [],
   "source": [
    "values = []"
   ]
  },
  {
   "cell_type": "code",
   "execution_count": 45,
   "metadata": {},
   "outputs": [],
   "source": [
    "values = [0, 3, 10]"
   ]
  },
  {
   "cell_type": "code",
   "execution_count": 61,
   "metadata": {},
   "outputs": [
    {
     "data": {
      "text/plain": [
       "0"
      ]
     },
     "execution_count": 61,
     "metadata": {},
     "output_type": "execute_result"
    }
   ],
   "source": [
    "sum(values)"
   ]
  },
  {
   "cell_type": "code",
   "execution_count": 53,
   "metadata": {},
   "outputs": [],
   "source": [
    "conc_matrix.append(sum(values))"
   ]
  },
  {
   "cell_type": "code",
   "execution_count": 54,
   "metadata": {},
   "outputs": [
    {
     "name": "stdout",
     "output_type": "stream",
     "text": [
      "[13, 13]\n"
     ]
    }
   ],
   "source": [
    "print(conc_matrix)"
   ]
  }
 ],
 "metadata": {
  "kernelspec": {
   "display_name": "Python 3",
   "language": "python",
   "name": "python3"
  },
  "language_info": {
   "codemirror_mode": {
    "name": "ipython",
    "version": 3
   },
   "file_extension": ".py",
   "mimetype": "text/x-python",
   "name": "python",
   "nbconvert_exporter": "python",
   "pygments_lexer": "ipython3",
   "version": "3.8.5"
  }
 },
 "nbformat": 4,
 "nbformat_minor": 4
}
