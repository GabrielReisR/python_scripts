{
 "cells": [
  {
   "cell_type": "markdown",
   "metadata": {},
   "source": [
    "## Lendo bibliotecas"
   ]
  },
  {
   "cell_type": "code",
   "execution_count": 1,
   "metadata": {},
   "outputs": [],
   "source": [
    "import math\n",
    "import numpy as np\n",
    "import pandas as pd\n",
    "%config Completer.use_jedi = False # this speeds up autocomplete"
   ]
  },
  {
   "cell_type": "markdown",
   "metadata": {},
   "source": [
    "## Entendendo o problema"
   ]
  },
  {
   "cell_type": "code",
   "execution_count": 2,
   "metadata": {},
   "outputs": [
    {
     "data": {
      "text/html": [
       "<div>\n",
       "<style scoped>\n",
       "    .dataframe tbody tr th:only-of-type {\n",
       "        vertical-align: middle;\n",
       "    }\n",
       "\n",
       "    .dataframe tbody tr th {\n",
       "        vertical-align: top;\n",
       "    }\n",
       "\n",
       "    .dataframe thead th {\n",
       "        text-align: right;\n",
       "    }\n",
       "</style>\n",
       "<table border=\"1\" class=\"dataframe\">\n",
       "  <thead>\n",
       "    <tr style=\"text-align: right;\">\n",
       "      <th></th>\n",
       "      <th>load_capacity</th>\n",
       "      <th>repeatability</th>\n",
       "      <th>maximum tip speed</th>\n",
       "      <th>memory capacity</th>\n",
       "      <th>manipulator reach</th>\n",
       "    </tr>\n",
       "  </thead>\n",
       "  <tbody>\n",
       "    <tr>\n",
       "      <th>asea_irb</th>\n",
       "      <td>60.00</td>\n",
       "      <td>0.40</td>\n",
       "      <td>2540.0</td>\n",
       "      <td>500</td>\n",
       "      <td>990</td>\n",
       "    </tr>\n",
       "    <tr>\n",
       "      <th>cincinatti</th>\n",
       "      <td>6.35</td>\n",
       "      <td>0.15</td>\n",
       "      <td>1016.0</td>\n",
       "      <td>3000</td>\n",
       "      <td>1041</td>\n",
       "    </tr>\n",
       "    <tr>\n",
       "      <th>cybotech</th>\n",
       "      <td>6.80</td>\n",
       "      <td>0.10</td>\n",
       "      <td>1727.2</td>\n",
       "      <td>1500</td>\n",
       "      <td>1676</td>\n",
       "    </tr>\n",
       "    <tr>\n",
       "      <th>hitachi</th>\n",
       "      <td>10.00</td>\n",
       "      <td>0.20</td>\n",
       "      <td>1000.0</td>\n",
       "      <td>2000</td>\n",
       "      <td>965</td>\n",
       "    </tr>\n",
       "    <tr>\n",
       "      <th>unimation</th>\n",
       "      <td>2.50</td>\n",
       "      <td>0.10</td>\n",
       "      <td>560.0</td>\n",
       "      <td>500</td>\n",
       "      <td>915</td>\n",
       "    </tr>\n",
       "    <tr>\n",
       "      <th>us_robots</th>\n",
       "      <td>4.50</td>\n",
       "      <td>0.08</td>\n",
       "      <td>1016.0</td>\n",
       "      <td>350</td>\n",
       "      <td>508</td>\n",
       "    </tr>\n",
       "    <tr>\n",
       "      <th>yaskawa</th>\n",
       "      <td>3.00</td>\n",
       "      <td>0.10</td>\n",
       "      <td>177.0</td>\n",
       "      <td>1000</td>\n",
       "      <td>920</td>\n",
       "    </tr>\n",
       "  </tbody>\n",
       "</table>\n",
       "</div>"
      ],
      "text/plain": [
       "            load_capacity  repeatability  maximum tip speed  memory capacity  \\\n",
       "asea_irb            60.00           0.40             2540.0              500   \n",
       "cincinatti           6.35           0.15             1016.0             3000   \n",
       "cybotech             6.80           0.10             1727.2             1500   \n",
       "hitachi             10.00           0.20             1000.0             2000   \n",
       "unimation            2.50           0.10              560.0              500   \n",
       "us_robots            4.50           0.08             1016.0              350   \n",
       "yaskawa              3.00           0.10              177.0             1000   \n",
       "\n",
       "            manipulator reach  \n",
       "asea_irb                  990  \n",
       "cincinatti               1041  \n",
       "cybotech                 1676  \n",
       "hitachi                   965  \n",
       "unimation                 915  \n",
       "us_robots                 508  \n",
       "yaskawa                   920  "
      ]
     },
     "execution_count": 2,
     "metadata": {},
     "output_type": "execute_result"
    }
   ],
   "source": [
    "# Criando nome dos robôs\n",
    "nome_robos = ['asea_irb', 'cincinatti', 'cybotech',\n",
    "             'hitachi', 'unimation', 'us_robots', 'yaskawa']\n",
    "# Criando matriz com valores dos robôs\n",
    "matriz = [\n",
    "    [60, 0.40, 2540, 500, 990],\n",
    "    [6.35, 0.15, 1016, 3000, 1041],\n",
    "    [6.8, 0.10, 1727.2, 1500, 1676],\n",
    "    [10, 0.20, 1000, 2000, 965],\n",
    "    [2.5, 0.10, 560, 500, 915],\n",
    "    [4.5, 0.08, 1016, 350, 508],\n",
    "    [3, 0.10, 177, 1000, 920]\n",
    "]\n",
    "\n",
    "# Criando nome das colunas\n",
    "nome_colunas = ['load_capacity', 'repeatability',\n",
    "                'maximum tip speed', 'memory capacity', 'manipulator reach'\n",
    "               ]\n",
    "\n",
    "# Transformando matriz em dataframe\n",
    "df = pd.DataFrame(matriz, columns = nome_colunas, index = nome_robos)\n",
    "df"
   ]
  },
  {
   "cell_type": "code",
   "execution_count": 3,
   "metadata": {},
   "outputs": [
    {
     "data": {
      "text/plain": [
       "array([[6.0000e+01, 6.3500e+00, 6.8000e+00, 1.0000e+01, 2.5000e+00,\n",
       "        4.5000e+00, 3.0000e+00],\n",
       "       [4.0000e-01, 1.5000e-01, 1.0000e-01, 2.0000e-01, 1.0000e-01,\n",
       "        8.0000e-02, 1.0000e-01],\n",
       "       [2.5400e+03, 1.0160e+03, 1.7272e+03, 1.0000e+03, 5.6000e+02,\n",
       "        1.0160e+03, 1.7700e+02],\n",
       "       [5.0000e+02, 3.0000e+03, 1.5000e+03, 2.0000e+03, 5.0000e+02,\n",
       "        3.5000e+02, 1.0000e+03],\n",
       "       [9.9000e+02, 1.0410e+03, 1.6760e+03, 9.6500e+02, 9.1500e+02,\n",
       "        5.0800e+02, 9.2000e+02]])"
      ]
     },
     "execution_count": 3,
     "metadata": {},
     "output_type": "execute_result"
    }
   ],
   "source": [
    "matriz = np.array(matriz).T\n",
    "matriz"
   ]
  },
  {
   "cell_type": "code",
   "execution_count": 4,
   "metadata": {},
   "outputs": [],
   "source": [
    "# Criando matriz de pesos\n",
    "pesos = [0.036, 0.192, 0.326, 0.326, 0.120]"
   ]
  },
  {
   "cell_type": "markdown",
   "metadata": {},
   "source": [
    "### Criando Tabela 4: Normalized Matrix"
   ]
  },
  {
   "cell_type": "code",
   "execution_count": 6,
   "metadata": {},
   "outputs": [],
   "source": [
    "# Inicializando matrizes\n",
    "norm_matrix = []\n",
    "\n",
    "# Criando função\n",
    "for i in range(0, np.shape(matriz)[0]):\n",
    "    for j in range(0, np.shape(matriz)[1]):\n",
    "\n",
    "        caso = matriz[i][j]\n",
    "        denominador = math.sqrt(sum(np.power(matriz[i], 2)))\n",
    "        normalizado = caso / denominador\n",
    "    \n",
    "        norm_matrix.append(normalizado)\n",
    "        \n",
    "        j += 1\n",
    "        \n",
    "# Organizando matriz\n",
    "norm_matrix = np.array(norm_matrix)\n",
    "norm_matrix = np.reshape(norm_matrix, (5, 7)).T\n",
    "norm_matrix = norm_matrix.round(4)"
   ]
  },
  {
   "cell_type": "code",
   "execution_count": 7,
   "metadata": {},
   "outputs": [
    {
     "name": "stdout",
     "output_type": "stream",
     "text": [
      "[[0.9705 0.7861 0.7087 0.1217 0.3557]\n",
      " [0.1027 0.2948 0.2835 0.7304 0.374 ]\n",
      " [0.11   0.1965 0.4819 0.3652 0.6022]\n",
      " [0.1618 0.3931 0.279  0.4869 0.3467]\n",
      " [0.0404 0.1965 0.1563 0.1217 0.3288]\n",
      " [0.0728 0.1572 0.2835 0.0852 0.1825]\n",
      " [0.0485 0.1965 0.0494 0.2435 0.3306]]\n"
     ]
    }
   ],
   "source": [
    "# Print da matriz\n",
    "print(norm_matrix)"
   ]
  },
  {
   "cell_type": "markdown",
   "metadata": {},
   "source": [
    "### Criando Tabela 5: Weighted Normalized Matrix"
   ]
  },
  {
   "cell_type": "code",
   "execution_count": 8,
   "metadata": {},
   "outputs": [
    {
     "name": "stdout",
     "output_type": "stream",
     "text": [
      "[[0.034938  0.1509312 0.2310362 0.0396742 0.042684 ]\n",
      " [0.0036972 0.0566016 0.092421  0.2381104 0.04488  ]\n",
      " [0.00396   0.037728  0.1570994 0.1190552 0.072264 ]\n",
      " [0.0058248 0.0754752 0.090954  0.1587294 0.041604 ]\n",
      " [0.0014544 0.037728  0.0509538 0.0396742 0.039456 ]\n",
      " [0.0026208 0.0301824 0.092421  0.0277752 0.0219   ]\n",
      " [0.001746  0.037728  0.0161044 0.079381  0.039672 ]]\n"
     ]
    }
   ],
   "source": [
    "weighted_matrix = norm_matrix * pesos\n",
    "\n",
    "print(weighted_matrix)"
   ]
  },
  {
   "cell_type": "markdown",
   "metadata": {},
   "source": [
    "### Criando Tabela 6: Concordance Matrix"
   ]
  },
  {
   "cell_type": "code",
   "execution_count": 141,
   "metadata": {
    "scrolled": true
   },
   "outputs": [],
   "source": [
    "# Inicializando matrizes\n",
    "conc_matrix = []\n",
    "\n",
    "# Criando função\n",
    "for j in range(0, np.shape(weighted_matrix)[0]):\n",
    "    for k in range(0, np.shape(weighted_matrix)[0]):\n",
    "        values = []\n",
    "        \n",
    "        if k == j:\n",
    "            conc_matrix.append('NaN')\n",
    "        \n",
    "        else:\n",
    "            for i in range(0, np.shape(weighted_matrix)[1]):\n",
    "               \n",
    "                caso = weighted_matrix[j][i]\n",
    "                caso_comp = weighted_matrix[k][i]\n",
    "                \n",
    "                if i == 1:\n",
    "                    if caso < caso_comp:\n",
    "                        values.append(pesos[i])\n",
    "                else:\n",
    "                    if caso > caso_comp:\n",
    "                        values.append(pesos[i])\n",
    "                        \n",
    "                if caso == caso_comp:\n",
    "                    values.append(pesos[i]*0.5)\n",
    "                \n",
    "            #print(values)\n",
    "            conc_matrix.append(round(sum(values), 4))"
   ]
  },
  {
   "cell_type": "code",
   "execution_count": 142,
   "metadata": {},
   "outputs": [],
   "source": [
    "conc_matrix = np.array(conc_matrix)\n",
    "conc_matrix = np.reshape(conc_matrix, (7, 7))"
   ]
  },
  {
   "cell_type": "code",
   "execution_count": 143,
   "metadata": {
    "scrolled": false
   },
   "outputs": [
    {
     "name": "stdout",
     "output_type": "stream",
     "text": [
      "[['NaN' '0.362' '0.362' '0.482' '0.645' '0.808' '0.482']\n",
      " ['0.638' 'NaN' '0.326' '0.964' '0.808' '0.645' '0.808']\n",
      " ['0.638' '0.674' 'NaN' '0.638' '0.904' '0.808' '0.904']\n",
      " ['0.518' '0.036' '0.362' 'NaN' '0.808' '0.482' '0.808']\n",
      " ['0.355' '0.192' '0.096' '0.192' 'NaN' '0.446' '0.422']\n",
      " ['0.192' '0.355' '0.192' '0.518' '0.554' 'NaN' '0.554']\n",
      " ['0.518' '0.192' '0.096' '0.192' '0.578' '0.446' 'NaN']]\n"
     ]
    }
   ],
   "source": [
    "print(conc_matrix)"
   ]
  },
  {
   "cell_type": "markdown",
   "metadata": {},
   "source": [
    "### Criando Tabela 7: Discordance Matrix"
   ]
  },
  {
   "cell_type": "code",
   "execution_count": 144,
   "metadata": {
    "scrolled": false
   },
   "outputs": [],
   "source": [
    "# Inicializando matrizes\n",
    "disc_matrix = []\n",
    "\n",
    "# Criando função\n",
    "for j in range(0, np.shape(weighted_matrix)[0]):\n",
    "    for k in range(0, np.shape(weighted_matrix)[0]):\n",
    "        values = []\n",
    "        \n",
    "        #soma = 0 # iniciando um contador\n",
    "        if k == j:\n",
    "            disc_matrix.append('NaN')\n",
    "        \n",
    "        else:\n",
    "            soma = 0\n",
    "        \n",
    "            for x in range(0, np.shape(weighted_matrix)[0]):\n",
    "                if weighted_matrix[k][i] <= weighted_matrix[j][i]:\n",
    "                    soma += 1\n",
    "                \n",
    "            if soma == np.shape(weighted_matrix)[1]:\n",
    "                disc_matrix.append(0)\n",
    "        \n",
    "            else:\n",
    "                diferenca_bruta = []\n",
    "                diferenca_absoluta = []\n",
    "                numerador = 0\n",
    "            \n",
    "                for i in range(0, np.shape(weighted_matrix)[1]):\n",
    "                    caso = weighted_matrix[j][i]\n",
    "                    caso_comp = weighted_matrix[k][i]\n",
    "                \n",
    "                    diferenca_bruta.append(caso_comp - caso)\n",
    "                    diferenca_absoluta.append(abs(caso_comp - caso))\n",
    "                \n",
    "                    for diff in range(0, np.shape(diferenca_bruta)[0]):\n",
    "                        if diferenca_bruta[diff] > 0:\n",
    "                            numerador = max(diferenca_bruta)\n",
    "                    \n",
    "                    denominador = max(diferenca_absoluta)\n",
    "                    #values.append(caso_comp - caso)\n",
    "        \n",
    "                if (numerador == 0 or denominador == 0):\n",
    "                    disc_matrix.append(0)\n",
    "                else:\n",
    "                    disc_matrix.append(round(numerador/denominador, 4))\n",
    "                #print(disc_matrix)"
   ]
  },
  {
   "cell_type": "code",
   "execution_count": 145,
   "metadata": {},
   "outputs": [],
   "source": [
    "disc_matrix = np.array(disc_matrix)\n",
    "disc_matrix = np.reshape(disc_matrix, (7, 7))"
   ]
  },
  {
   "cell_type": "code",
   "execution_count": 146,
   "metadata": {},
   "outputs": [
    {
     "name": "stdout",
     "output_type": "stream",
     "text": [
      "[['NaN' '1.0' '0.7012' '0.8499' '0' '0' '0.1847']\n",
      " ['0.6985' 'NaN' '0.5433' '0.2378' '0' '0' '0']\n",
      " ['1.0' '1.0' 'NaN' '0.5998' '0' '0' '0']\n",
      " ['1.0' '1.0' '1.0' 'NaN' '0' '0.0112' '0']\n",
      " ['1.0' '1.0' '1.0' '1.0' 'NaN' '1.0' '1.0']\n",
      " ['1.0' '1.0' '1.0' '1.0' '0.4234' 'NaN' '0.6762']\n",
      " ['1.0' '1.0' '1.0' '1.0' '0.8777' '1.0' 'NaN']]\n"
     ]
    }
   ],
   "source": [
    "print(disc_matrix)"
   ]
  },
  {
   "cell_type": "markdown",
   "metadata": {},
   "source": [
    "### Criando Tabela 8: Pure Concordance and Pure Discordance Matrix"
   ]
  },
  {
   "cell_type": "markdown",
   "metadata": {},
   "source": [
    "#### Substituindo 'NaN's por zeros"
   ]
  },
  {
   "cell_type": "code",
   "execution_count": 162,
   "metadata": {},
   "outputs": [],
   "source": [
    "# Inicializando matrizes\n",
    "conc_matrix = []\n",
    "\n",
    "# Criando função\n",
    "for j in range(0, np.shape(weighted_matrix)[0]):\n",
    "    for k in range(0, np.shape(weighted_matrix)[0]):\n",
    "        values = []\n",
    "        \n",
    "        if k == j:\n",
    "            conc_matrix.append(0)\n",
    "        \n",
    "        else:\n",
    "            for i in range(0, np.shape(weighted_matrix)[1]):\n",
    "               \n",
    "                caso = weighted_matrix[j][i]\n",
    "                caso_comp = weighted_matrix[k][i]\n",
    "                \n",
    "                if i == 1:\n",
    "                    if caso < caso_comp:\n",
    "                        values.append(pesos[i])\n",
    "                else:\n",
    "                    if caso > caso_comp:\n",
    "                        values.append(pesos[i])\n",
    "                        \n",
    "                if caso == caso_comp:\n",
    "                    values.append(pesos[i]*0.5)\n",
    "                \n",
    "            #print(values)\n",
    "            conc_matrix.append(round(sum(values), 4))\n",
    "\n",
    "conc_matrix = np.array(conc_matrix)\n",
    "conc_matrix = np.reshape(conc_matrix, (7, 7))"
   ]
  },
  {
   "cell_type": "markdown",
   "metadata": {},
   "source": [
    "#### Substituindo 'NaN's por zeros"
   ]
  },
  {
   "cell_type": "code",
   "execution_count": 163,
   "metadata": {},
   "outputs": [],
   "source": [
    "# Inicializando matrizes\n",
    "disc_matrix = []\n",
    "\n",
    "# Criando função\n",
    "for j in range(0, np.shape(weighted_matrix)[0]):\n",
    "    for k in range(0, np.shape(weighted_matrix)[0]):\n",
    "        values = []\n",
    "        \n",
    "        #soma = 0 # iniciando um contador\n",
    "        if k == j:\n",
    "            disc_matrix.append(0)\n",
    "        \n",
    "        else:\n",
    "            soma = 0\n",
    "        \n",
    "            for x in range(0, np.shape(weighted_matrix)[0]):\n",
    "                if weighted_matrix[k][i] <= weighted_matrix[j][i]:\n",
    "                    soma += 1\n",
    "                \n",
    "            if soma == np.shape(weighted_matrix)[1]:\n",
    "                disc_matrix.append(0)\n",
    "        \n",
    "            else:\n",
    "                diferenca_bruta = []\n",
    "                diferenca_absoluta = []\n",
    "                numerador = 0\n",
    "            \n",
    "                for i in range(0, np.shape(weighted_matrix)[1]):\n",
    "                    caso = weighted_matrix[j][i]\n",
    "                    caso_comp = weighted_matrix[k][i]\n",
    "                \n",
    "                    diferenca_bruta.append(caso_comp - caso)\n",
    "                    diferenca_absoluta.append(abs(caso_comp - caso))\n",
    "                \n",
    "                    for diff in range(0, np.shape(diferenca_bruta)[0]):\n",
    "                        if diferenca_bruta[diff] > 0:\n",
    "                            numerador = max(diferenca_bruta)\n",
    "                    \n",
    "                    denominador = max(diferenca_absoluta)\n",
    "                    #values.append(caso_comp - caso)\n",
    "        \n",
    "                if (numerador == 0 or denominador == 0):\n",
    "                    disc_matrix.append(0)\n",
    "                else:\n",
    "                    disc_matrix.append(round(numerador/denominador, 4))\n",
    "                #print(disc_matrix)\n",
    "\n",
    "disc_matrix = np.array(disc_matrix)\n",
    "disc_matrix = np.reshape(disc_matrix, (7, 7))"
   ]
  },
  {
   "cell_type": "markdown",
   "metadata": {},
   "source": [
    "#### Criando matrizes de pura concordância ou pura discordância"
   ]
  },
  {
   "cell_type": "code",
   "execution_count": 171,
   "metadata": {},
   "outputs": [],
   "source": [
    "# Inicializando matrizes\n",
    "pure_conc = []\n",
    "pure_disc = []\n",
    "\n",
    "for j in range(0, np.shape(conc_matrix)[0]):\n",
    "    conc = conc_matrix[j, :]\n",
    "    disc = disc_matrix[j, :]\n",
    "    \n",
    "    coluna_conc = conc_matrix[:, j]\n",
    "    coluna_disc = disc_matrix[:, j]\n",
    "    \n",
    "    pure_conc.append(sum(conc) - sum(coluna_conc))\n",
    "    pure_disc.append(sum(disc) - sum(coluna_disc))"
   ]
  },
  {
   "cell_type": "code",
   "execution_count": 172,
   "metadata": {},
   "outputs": [
    {
     "name": "stdout",
     "output_type": "stream",
     "text": [
      "[[ 0.282]\n",
      " [ 2.378]\n",
      " [ 3.132]\n",
      " [ 0.028]\n",
      " [-2.594]\n",
      " [-1.27 ]\n",
      " [-1.956]]\n"
     ]
    }
   ],
   "source": [
    "pure_conc = np.array(pure_conc)\n",
    "pure_conc = np.reshape(pure_conc, (7, 1))\n",
    "print(pure_conc)"
   ]
  },
  {
   "cell_type": "code",
   "execution_count": 173,
   "metadata": {},
   "outputs": [
    {
     "name": "stdout",
     "output_type": "stream",
     "text": [
      "[[-2.9627]\n",
      " [-4.5204]\n",
      " [-2.6447]\n",
      " [-1.6763]\n",
      " [ 4.6989]\n",
      " [ 3.0884]\n",
      " [ 4.0168]]\n"
     ]
    }
   ],
   "source": [
    "pure_disc = np.array(pure_disc)\n",
    "pure_disc = np.reshape(pure_disc, (7, 1))\n",
    "print(pure_disc)"
   ]
  }
 ],
 "metadata": {
  "kernelspec": {
   "display_name": "Python 3",
   "language": "python",
   "name": "python3"
  },
  "language_info": {
   "codemirror_mode": {
    "name": "ipython",
    "version": 3
   },
   "file_extension": ".py",
   "mimetype": "text/x-python",
   "name": "python",
   "nbconvert_exporter": "python",
   "pygments_lexer": "ipython3",
   "version": "3.8.5"
  }
 },
 "nbformat": 4,
 "nbformat_minor": 4
}
