{
 "cells": [
  {
   "cell_type": "code",
   "execution_count": 59,
   "id": "accepting-interview",
   "metadata": {
    "scrolled": true
   },
   "outputs": [
    {
     "data": {
      "text/plain": [
       "\"\\nGoldbach's conjecture (still not proven) stipulates that any even number\\nequal or greater than 4 is the sum of two prime numbers.\\n\""
      ]
     },
     "execution_count": 59,
     "metadata": {},
     "output_type": "execute_result"
    }
   ],
   "source": [
    "'''\n",
    "Goldbach's conjecture (still not proven) stipulates that any even number\n",
    "equal or greater than 4 is the sum of two prime numbers.\n",
    "'''"
   ]
  },
  {
   "cell_type": "code",
   "execution_count": 63,
   "id": "agricultural-imaging",
   "metadata": {},
   "outputs": [],
   "source": [
    "# Is a number prime?\n",
    "# Making a function to establish if a number is prime\n",
    "\n",
    "def is_prime(number):\n",
    "    # Initiating list\n",
    "    dividers_list = []\n",
    "    \n",
    "    # Initiating i\n",
    "    i = 2 # that's because any number is divisible by 1, so we start with 2\n",
    "    \n",
    "    if number % 2 == 0:\n",
    "        return False\n",
    "    \n",
    "    while (i <= number/2) & (dividers_list == []):\n",
    "        if number % i == 0:\n",
    "            dividers_list.append(i)\n",
    "        i = i + 1\n",
    "    \n",
    "    if dividers_list == []:\n",
    "        return True\n",
    "    else:\n",
    "        return False"
   ]
  },
  {
   "cell_type": "code",
   "execution_count": 64,
   "id": "infinite-paste",
   "metadata": {},
   "outputs": [],
   "source": [
    "# Give me a list of prime numbers before 'number'\n",
    "def list_primes_before(number):\n",
    "    # ===\n",
    "    \n",
    "    # Initiating middle list\n",
    "    primes_list = []\n",
    "    \n",
    "    # Initializing i\n",
    "    i = 2\n",
    "\n",
    "    # ===\n",
    "    \n",
    "    # Low number\n",
    "    if number <= 1:\n",
    "        print('This can not be computed')\n",
    "    \n",
    "    # ===\n",
    "    \n",
    "    for i in range(i, number):\n",
    "        if is_prime(i) == True:\n",
    "            primes_list.append(i)\n",
    "            i = i + 1\n",
    "        else:\n",
    "            i = i + 1\n",
    "    return primes_list"
   ]
  },
  {
   "cell_type": "code",
   "execution_count": 65,
   "id": "widespread-designer",
   "metadata": {},
   "outputs": [],
   "source": [
    "# Which numbers in a prime list before 'number', when summed, equals 'number'\n",
    "\n",
    "def get_primes_sum():\n",
    "    \n",
    "    # ===\n",
    "    \n",
    "    try:\n",
    "        \n",
    "        even_number = int(input('Pick an even positive number: '))\n",
    "        \n",
    "        if even_number % 2 == 0:\n",
    "            \n",
    "            # Creating 'primes_list'\n",
    "            primes_list = list_primes_before(even_number)\n",
    "\n",
    "            # Initializing 'ind_1' & 'final_list'\n",
    "            ind_1 = 0\n",
    "            final_list = []\n",
    "\n",
    "            # ===\n",
    "\n",
    "            while ind_1 < len(primes_list):\n",
    "                for i in range(ind_1, len(primes_list)):\n",
    "\n",
    "                    if primes_list[ind_1] + primes_list[i] != even_number:\n",
    "                        i = i + 1\n",
    "\n",
    "                    elif primes_list[ind_1] + primes_list[i] == even_number:\n",
    "                        final_list.append(primes_list[ind_1])\n",
    "                        final_list.append(primes_list[i])\n",
    "\n",
    "                    else:\n",
    "                        break\n",
    "\n",
    "                if final_list != []:\n",
    "\n",
    "                    print('We can easily get', str(even_number), 'when we add together', str(final_list[0]), 'and', str(final_list[1]), '- both of which are prime numbers.')\n",
    "                    break\n",
    "\n",
    "                else:\n",
    "                    ind_1 = ind_1 + 1\n",
    "              \n",
    "        else:\n",
    "            print('Sorry... You added an odd number. Run again with another number - this time with an even one.\\n')\n",
    "                        \n",
    "            get_primes_sum()\n",
    "\n",
    "        # ===\n",
    "\n",
    "    \n",
    "    except ValueError:\n",
    "        print('Sorry, you added the wrong form of input. Try adding an integer.\\nExample: 2120\\n')\n",
    "        get_primes_sum()\n",
    "    \n",
    "    # ==="
   ]
  },
  {
   "cell_type": "code",
   "execution_count": 66,
   "id": "verified-usage",
   "metadata": {},
   "outputs": [
    {
     "name": "stdout",
     "output_type": "stream",
     "text": [
      "Pick an even positive number: 100000\n",
      "We can easily get 100000 when we add together 11 and 99989 - both of which are prime numbers.\n"
     ]
    }
   ],
   "source": [
    "get_primes_sum()"
   ]
  }
 ],
 "metadata": {
  "kernelspec": {
   "display_name": "Python 3",
   "language": "python",
   "name": "python3"
  },
  "language_info": {
   "codemirror_mode": {
    "name": "ipython",
    "version": 3
   },
   "file_extension": ".py",
   "mimetype": "text/x-python",
   "name": "python",
   "nbconvert_exporter": "python",
   "pygments_lexer": "ipython3",
   "version": "3.9.1"
  }
 },
 "nbformat": 4,
 "nbformat_minor": 5
}
