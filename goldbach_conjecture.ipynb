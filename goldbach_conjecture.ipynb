{
 "cells": [
  {
   "cell_type": "code",
   "execution_count": null,
   "id": "accepting-interview",
   "metadata": {},
   "outputs": [],
   "source": [
    "'''\n",
    "A conjectura de Goldbach (ainda não provada) diz que qualquer número par maior ou igual a 4 \n",
    "é a soma de dois números primos. \n",
    "\n",
    "\n",
    "Faça um programa que, recebendo um número P par, seja capaz de exibir \n",
    "dois número inteiros correspondentes aos dois números primos cuja soma seja igual ao número par P.\n",
    "\n",
    "\n",
    "Lembre-se: número primo é todo número inteiro maior que 1 que somente é divisível por si próprio e pela unidade.\n",
    "'''"
   ]
  },
  {
   "cell_type": "code",
   "execution_count": null,
   "id": "rotary-following",
   "metadata": {},
   "outputs": [],
   "source": [
    "if (p % 2 & p >= 4):\n",
    "    p = primo1 + primo2\n",
    "    \n",
    "    print(primo1); print(primo2)\n"
   ]
  },
  {
   "cell_type": "code",
   "execution_count": 4,
   "id": "complimentary-thomson",
   "metadata": {},
   "outputs": [
    {
     "name": "stdout",
     "output_type": "stream",
     "text": [
      "3 somado a 5 é igual a 8\n"
     ]
    }
   ],
   "source": [
    "p = 8\n",
    "x = []\n",
    "y = 3\n",
    "z = 5\n",
    "x.append(y)\n",
    "x.append(z)\n",
    "\n",
    "print(x[0], 'somado a', x[1], 'é igual a', p)"
   ]
  },
  {
   "cell_type": "code",
   "execution_count": 53,
   "id": "israeli-words",
   "metadata": {},
   "outputs": [],
   "source": [
    "# Como saber se um número é primo?\n",
    "\n",
    "def is_prime():\n",
    "    # Initiating list\n",
    "    final_list = []\n",
    "    \n",
    "    # Initiating i\n",
    "    i = 2\n",
    "    \n",
    "    # Creating number input\n",
    "    number = int(input('Pick a number: '))\n",
    "    \n",
    "    while i < number:\n",
    "        if number % i == 0:\n",
    "            final_list.append(i)\n",
    "        i = i + 1\n",
    "    \n",
    "    if final_list == []:\n",
    "        print(str(number), 'is a prime number.')\n",
    "    \n",
    "    else:\n",
    "        print(str(number), 'is not a prime number.')\n",
    "    \n",
    "    print(final_list)"
   ]
  },
  {
   "cell_type": "code",
   "execution_count": 57,
   "id": "agricultural-imaging",
   "metadata": {},
   "outputs": [],
   "source": [
    "# Como saber se um número é primo?\n",
    "\n",
    "def is_prime():\n",
    "    # Initiating list\n",
    "    final_list = []\n",
    "    prime_list = []\n",
    "    \n",
    "    # Initiating i\n",
    "    i = 2\n",
    "    \n",
    "    # Creating number input\n",
    "    number = int(input('Pick a number: '))\n",
    "    \n",
    "    while i < number:\n",
    "        if number % i == 0:\n",
    "            final_list.append(i)\n",
    "        i = i + 1\n",
    "    \n",
    "    if final_list == []:\n",
    "        prime_list.append(number)\n",
    "        \n",
    "    print(prime_list)"
   ]
  },
  {
   "cell_type": "code",
   "execution_count": null,
   "id": "municipal-polish",
   "metadata": {},
   "outputs": [],
   "source": [
    "for i in range(1, 10):\n",
    "    "
   ]
  },
  {
   "cell_type": "code",
   "execution_count": 59,
   "id": "bright-attribute",
   "metadata": {},
   "outputs": [
    {
     "name": "stdout",
     "output_type": "stream",
     "text": [
      "Pick a number: 5\n",
      "[5]\n"
     ]
    }
   ],
   "source": [
    "is_prime()"
   ]
  },
  {
   "cell_type": "code",
   "execution_count": null,
   "id": "interesting-iceland",
   "metadata": {},
   "outputs": [],
   "source": []
  }
 ],
 "metadata": {
  "kernelspec": {
   "display_name": "Python 3",
   "language": "python",
   "name": "python3"
  },
  "language_info": {
   "codemirror_mode": {
    "name": "ipython",
    "version": 3
   },
   "file_extension": ".py",
   "mimetype": "text/x-python",
   "name": "python",
   "nbconvert_exporter": "python",
   "pygments_lexer": "ipython3",
   "version": "3.9.1"
  }
 },
 "nbformat": 4,
 "nbformat_minor": 5
}
